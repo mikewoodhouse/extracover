{
 "cells": [
  {
   "cell_type": "code",
   "execution_count": 2,
   "metadata": {},
   "outputs": [],
   "source": [
    "import pandas as pd\n",
    "from sklearn.model_selection import train_test_split\n",
    "from sklearn import preprocessing\n",
    "from pathlib import Path"
   ]
  },
  {
   "cell_type": "code",
   "execution_count": 6,
   "metadata": {},
   "outputs": [
    {
     "name": "stdout",
     "output_type": "stream",
     "text": [
      "/home/mikew/extracover/data\n"
     ]
    }
   ],
   "source": [
    "this_dir = Path().resolve()\n",
    "DATA_DIR = this_dir.parent / \"data\"\n",
    "print(DATA_DIR)"
   ]
  },
  {
   "cell_type": "code",
   "execution_count": 7,
   "metadata": {},
   "outputs": [],
   "source": [
    "df = pd.read_csv(DATA_DIR / \"ml_rows_last_two.csv\")"
   ]
  },
  {
   "cell_type": "code",
   "execution_count": 8,
   "metadata": {},
   "outputs": [],
   "source": [
    "X = df[\n",
    "    [\n",
    "        \"innings\",\n",
    "        \"ball_of_innings\",\n",
    "        # \"in_powerplay\",\n",
    "        # \"in_last_two\",\n",
    "        \"wickets_down\",\n",
    "        \"run_rate\",\n",
    "        \"req_rate\",\n",
    "        \"batter_in_first_10\",\n",
    "        \"batter_strike_rate\",\n",
    "        \"bowler_economy\",\n",
    "        \"bowler_wicket_prob\",\n",
    "        \"bowler_wide_noball_rate\",\n",
    "    ]\n",
    "]\n",
    "y = df[\n",
    "    [\n",
    "        \"outcome\",\n",
    "        # \"wide\",\n",
    "        # \"noball\",\n",
    "        # \"bye\",\n",
    "        # \"legbye\",\n",
    "        # \"wicket\",\n",
    "        # \"dot_ball\",\n",
    "        # \"single\",\n",
    "        # \"two\",\n",
    "        # \"three\",\n",
    "        # \"four\",\n",
    "        # \"six\",\n",
    "    ]\n",
    "]"
   ]
  },
  {
   "cell_type": "code",
   "execution_count": 9,
   "metadata": {},
   "outputs": [
    {
     "name": "stdout",
     "output_type": "stream",
     "text": [
      "df.shape=(177105, 11)\n",
      "X.shape=(177105, 10)\n",
      "y.shape=(177105, 1)\n"
     ]
    }
   ],
   "source": [
    "print(f\"{df.shape=}\")\n",
    "print(f\"{X.shape=}\")\n",
    "print(f\"{y.shape=}\")"
   ]
  },
  {
   "cell_type": "code",
   "execution_count": 10,
   "metadata": {},
   "outputs": [
    {
     "name": "stdout",
     "output_type": "stream",
     "text": [
      "X_scaled.shape=(177105, 10)\n"
     ]
    }
   ],
   "source": [
    "scaler = preprocessing.StandardScaler().fit(X)\n",
    "X_scaled = scaler.transform(X)\n",
    "print(f\"{X_scaled.shape=}\")"
   ]
  },
  {
   "cell_type": "code",
   "execution_count": 11,
   "metadata": {},
   "outputs": [],
   "source": [
    "from sklearn.cluster import KMeans\n",
    "\n",
    "import joblib\n",
    "\n",
    "for clusters in [50, 100, 200, 500, 1000]:\n",
    "    clf = KMeans(n_clusters=clusters)\n",
    "    clf.fit(X_scaled)\n",
    "    joblib.dump(clf, DATA_DIR / f\"Kmeans_fitted_{clusters}_clusters.model\")"
   ]
  },
  {
   "cell_type": "code",
   "execution_count": null,
   "metadata": {},
   "outputs": [],
   "source": []
  }
 ],
 "metadata": {
  "kernelspec": {
   "display_name": "venv",
   "language": "python",
   "name": "python3"
  },
  "language_info": {
   "codemirror_mode": {
    "name": "ipython",
    "version": 3
   },
   "file_extension": ".py",
   "mimetype": "text/x-python",
   "name": "python",
   "nbconvert_exporter": "python",
   "pygments_lexer": "ipython3",
   "version": "3.12.7"
  }
 },
 "nbformat": 4,
 "nbformat_minor": 2
}
