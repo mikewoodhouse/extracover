{
 "cells": [
  {
   "cell_type": "code",
   "execution_count": 1,
   "metadata": {},
   "outputs": [],
   "source": [
    "import sys\n",
    "from datetime import datetime\n",
    "from pathlib import Path\n",
    "\n",
    "import hdbscan\n",
    "import joblib\n",
    "import numpy as np\n",
    "import pandas as pd\n",
    "from sklearn import preprocessing\n",
    "\n",
    "sys.path.append(\"../\")"
   ]
  },
  {
   "cell_type": "code",
   "execution_count": 2,
   "metadata": {},
   "outputs": [
    {
     "data": {
      "text/plain": [
       "1"
      ]
     },
     "execution_count": 2,
     "metadata": {},
     "output_type": "execute_result"
    }
   ],
   "source": [
    "from loguru import logger\n",
    "\n",
    "log_dir = Path.cwd().parent / \"logs\"\n",
    "logger.add(log_dir / \"log.log\")"
   ]
  },
  {
   "cell_type": "code",
   "execution_count": 3,
   "metadata": {},
   "outputs": [],
   "source": [
    "import warnings\n",
    "\n",
    "warnings.simplefilter(action=\"ignore\", category=FutureWarning)\n",
    "warnings.simplefilter(action=\"ignore\", category=UserWarning)"
   ]
  },
  {
   "cell_type": "code",
   "execution_count": 4,
   "metadata": {},
   "outputs": [
    {
     "name": "stdout",
     "output_type": "stream",
     "text": [
      "/home/mikew/extracover/data\n"
     ]
    }
   ],
   "source": [
    "MIN_MATCHES = 250\n",
    "LAST_TRAIN_MATCH_DATE = datetime(2023, 7, 31)\n",
    "this_dir = Path().resolve()\n",
    "DATA_DIR = this_dir.parent / \"data\"\n",
    "print(DATA_DIR)\n",
    "df = pd.read_csv(DATA_DIR / \"ml_rows.csv\", parse_dates=[\"start_date\"])"
   ]
  },
  {
   "cell_type": "code",
   "execution_count": 5,
   "metadata": {},
   "outputs": [],
   "source": [
    "df_train = {\n",
    "    inns: df[(df.start_date <= LAST_TRAIN_MATCH_DATE) & (df.match_number > MIN_MATCHES) & (df.innings == inns)]\n",
    "    for inns in range(2)\n",
    "}\n",
    "df_test = {\n",
    "    inns: df[(df.start_date > LAST_TRAIN_MATCH_DATE) & (df.match_number > MIN_MATCHES) & (df.innings == inns)]\n",
    "    for inns in range(2)\n",
    "}\n",
    "\n",
    "train_dfs = {\n",
    "    inns: {over: df_train[inns].loc[(df_train[inns][\"over\"] == over)] for over in range(20)} for inns in range(2)\n",
    "}"
   ]
  },
  {
   "cell_type": "code",
   "execution_count": 6,
   "metadata": {},
   "outputs": [
    {
     "data": {
      "text/plain": [
       "match_number                        int64\n",
       "start_date                 datetime64[ns]\n",
       "innings                             int64\n",
       "ball_of_innings                     int64\n",
       "over                                int64\n",
       "wickets_down                        int64\n",
       "run_rate                          float64\n",
       "req_rate                          float64\n",
       "batter_in_first_10                  int64\n",
       "batter_strike_rate                float64\n",
       "bowler_economy                    float64\n",
       "bowler_wicket_prob                float64\n",
       "bowler_wide_noball_rate           float64\n",
       "outcome                             int64\n",
       "dtype: object"
      ]
     },
     "execution_count": 6,
     "metadata": {},
     "output_type": "execute_result"
    }
   ],
   "source": [
    "train_dfs[0][1].dtypes"
   ]
  },
  {
   "cell_type": "code",
   "execution_count": 7,
   "metadata": {},
   "outputs": [],
   "source": [
    "def extract_values(d, values: list[str]):\n",
    "    return d[values]\n",
    "\n",
    "\n",
    "X_values = [\n",
    "    \"wickets_down\",\n",
    "    \"run_rate\",\n",
    "    \"req_rate\",\n",
    "    \"batter_in_first_10\",\n",
    "    \"batter_strike_rate\",\n",
    "    \"bowler_economy\",\n",
    "    \"bowler_wicket_prob\",\n",
    "    \"bowler_wide_noball_rate\",\n",
    "]\n",
    "\n",
    "y_values = [\n",
    "    \"outcome\",\n",
    "]"
   ]
  },
  {
   "cell_type": "code",
   "execution_count": 8,
   "metadata": {},
   "outputs": [],
   "source": [
    "from sklearn.metrics import make_scorer\n",
    "from sklearn.model_selection import RandomizedSearchCV"
   ]
  },
  {
   "cell_type": "code",
   "execution_count": 18,
   "metadata": {},
   "outputs": [],
   "source": [
    "# see https://towardsdatascience.com/tuning-with-hdbscan-149865ac2970\n",
    "\n",
    "joblib_memory = joblib.Memory()\n",
    "\n",
    "\n",
    "def optimize_hdb(X, param_dist: dict, inns: int, over: int):\n",
    "    hdb = hdbscan.HDBSCAN(\n",
    "        gen_min_span_tree=True,\n",
    "        memory=joblib_memory,\n",
    "        cluster_selection_method=\"leaf\",\n",
    "        metric=\"euclidean\",\n",
    "    ).fit(X)\n",
    "\n",
    "    scorer = make_scorer(hdbscan.validity.validity_index, greater_is_better=True)\n",
    "    # scorer = make_scorer(hdbscan.validity.validity_index, greater_is_better=True)\n",
    "\n",
    "    n_iter_search = 20\n",
    "    random_search = RandomizedSearchCV(\n",
    "        hdb, param_distributions=param_dist, n_iter=n_iter_search, scoring=scorer, random_state=1\n",
    "    )\n",
    "\n",
    "    random_search.fit(X)\n",
    "\n",
    "    print(f\"Best Parameters {random_search.best_params_}\")\n",
    "    dbcv_score = random_search.best_estimator_.relative_validity_\n",
    "    print(f\"DBCV score :{dbcv_score}\")\n",
    "\n",
    "    # evaluate the clusters\n",
    "    labels = random_search.best_estimator_.labels_\n",
    "    clustered = labels >= 0\n",
    "\n",
    "    coverage = np.sum(clustered) / X.shape[0]\n",
    "    total_clusters = np.max(labels) + 1\n",
    "    cluster_sizes = np.bincount(labels[clustered]).tolist()\n",
    "\n",
    "    print(f\"Percent of data retained: {coverage}\")\n",
    "    print(f\"Total Clusters found: {total_clusters}\")\n",
    "    print(f\"Cluster splits: {cluster_sizes}\")\n",
    "\n",
    "    best_params = [\n",
    "        random_search.best_params_[param]\n",
    "        for param in [\n",
    "            \"min_samples\",\n",
    "            \"min_cluster_size\",\n",
    "            \"cluster_selection_epsilon\",\n",
    "            \"alpha\",\n",
    "        ]\n",
    "    ]\n",
    "\n",
    "    str_vals = [\n",
    "        str(inns),\n",
    "        str(over),\n",
    "        str(best_params[0]),\n",
    "        str(best_params[1]),\n",
    "        str(best_params[2]),\n",
    "        str(best_params[3]),\n",
    "        f\"{dbcv_score:.5f}\",\n",
    "        f\"{coverage:.1%}\",\n",
    "        str(total_clusters),\n",
    "    ]\n",
    "\n",
    "    msg = \"| \" + \" | \".join(str_vals) + \" |\"\n",
    "\n",
    "    logger.info(msg.strip())"
   ]
  },
  {
   "cell_type": "code",
   "execution_count": 20,
   "metadata": {},
   "outputs": [
    {
     "name": "stderr",
     "output_type": "stream",
     "text": [
      "\u001b[32m2025-01-15 16:55:07.118\u001b[0m | \u001b[1mINFO    \u001b[0m | \u001b[36m__main__\u001b[0m:\u001b[36m<module>\u001b[0m:\u001b[36m1\u001b[0m - \u001b[1mstarting...\u001b[0m\n"
     ]
    },
    {
     "name": "stdout",
     "output_type": "stream",
     "text": [
      "Best Parameters {'min_samples': 7, 'min_cluster_size': 400, 'cluster_selection_epsilon': 0.2, 'alpha': 0.1}\n"
     ]
    },
    {
     "name": "stderr",
     "output_type": "stream",
     "text": [
      "\u001b[32m2025-01-15 17:01:19.793\u001b[0m | \u001b[1mINFO    \u001b[0m | \u001b[36m__main__\u001b[0m:\u001b[36moptimize_hdb\u001b[0m:\u001b[36m64\u001b[0m - \u001b[1m| 0 | 0 | 7 | 400 | 0.2 | 0.1 | 0.04266 | 99.7% | 3 |\u001b[0m\n"
     ]
    },
    {
     "name": "stdout",
     "output_type": "stream",
     "text": [
      "DBCV score :0.04266456326041908\n",
      "Percent of data retained: 0.9968290778295748\n",
      "Total Clusters found: 3\n",
      "Cluster splits: [1559, 2980, 37586]\n",
      "Best Parameters {'min_samples': 7, 'min_cluster_size': 400, 'cluster_selection_epsilon': 0.2, 'alpha': 0.1}\n"
     ]
    },
    {
     "name": "stderr",
     "output_type": "stream",
     "text": [
      "\u001b[32m2025-01-15 17:10:03.883\u001b[0m | \u001b[1mINFO    \u001b[0m | \u001b[36m__main__\u001b[0m:\u001b[36moptimize_hdb\u001b[0m:\u001b[36m64\u001b[0m - \u001b[1m| 0 | 1 | 7 | 400 | 0.2 | 0.1 | 0.01505 | 98.8% | 5 |\u001b[0m\n"
     ]
    },
    {
     "name": "stdout",
     "output_type": "stream",
     "text": [
      "DBCV score :0.015046827222063864\n",
      "Percent of data retained: 0.9878633859015771\n",
      "Total Clusters found: 5\n",
      "Cluster splits: [504, 1311, 1201, 9254, 29323]\n",
      "Best Parameters {'min_samples': 7, 'min_cluster_size': 400, 'cluster_selection_epsilon': 0.2, 'alpha': 0.1}\n"
     ]
    },
    {
     "name": "stderr",
     "output_type": "stream",
     "text": [
      "\u001b[32m2025-01-15 17:17:51.548\u001b[0m | \u001b[1mINFO    \u001b[0m | \u001b[36m__main__\u001b[0m:\u001b[36moptimize_hdb\u001b[0m:\u001b[36m64\u001b[0m - \u001b[1m| 0 | 2 | 7 | 400 | 0.2 | 0.1 | 0.00422 | 97.8% | 7 |\u001b[0m\n"
     ]
    },
    {
     "name": "stdout",
     "output_type": "stream",
     "text": [
      "DBCV score :0.004218813594149502\n",
      "Percent of data retained: 0.9775566478839468\n",
      "Total Clusters found: 7\n",
      "Cluster splits: [582, 610, 604, 3683, 18381, 3721, 13188]\n",
      "Best Parameters {'min_samples': 7, 'min_cluster_size': 400, 'cluster_selection_epsilon': 0.2, 'alpha': 0.1}\n"
     ]
    },
    {
     "name": "stderr",
     "output_type": "stream",
     "text": [
      "\u001b[32m2025-01-15 17:24:52.120\u001b[0m | \u001b[1mINFO    \u001b[0m | \u001b[36m__main__\u001b[0m:\u001b[36moptimize_hdb\u001b[0m:\u001b[36m64\u001b[0m - \u001b[1m| 0 | 3 | 7 | 400 | 0.2 | 0.1 | 0.00723 | 96.3% | 9 |\u001b[0m\n"
     ]
    },
    {
     "name": "stdout",
     "output_type": "stream",
     "text": [
      "DBCV score :0.007229042915650004\n",
      "Percent of data retained: 0.9628366204626805\n",
      "Total Clusters found: 9\n",
      "Cluster splits: [610, 1275, 617, 8184, 3764, 1121, 5128, 7525, 11856]\n",
      "Best Parameters {'min_samples': 7, 'min_cluster_size': 400, 'cluster_selection_epsilon': 0.2, 'alpha': 0.1}\n"
     ]
    },
    {
     "name": "stderr",
     "output_type": "stream",
     "text": [
      "\u001b[32m2025-01-15 17:32:23.997\u001b[0m | \u001b[1mINFO    \u001b[0m | \u001b[36m__main__\u001b[0m:\u001b[36moptimize_hdb\u001b[0m:\u001b[36m64\u001b[0m - \u001b[1m| 0 | 4 | 7 | 400 | 0.2 | 0.1 | 0.00496 | 94.3% | 10 |\u001b[0m\n"
     ]
    },
    {
     "name": "stdout",
     "output_type": "stream",
     "text": [
      "DBCV score :0.004959129753483794\n",
      "Percent of data retained: 0.9434039381626717\n",
      "Total Clusters found: 10\n",
      "Cluster splits: [676, 709, 2086, 7158, 9182, 450, 2065, 8455, 6402, 2056]\n",
      "Best Parameters {'min_samples': 7, 'min_cluster_size': 400, 'cluster_selection_epsilon': 0.2, 'alpha': 0.1}\n"
     ]
    },
    {
     "name": "stderr",
     "output_type": "stream",
     "text": [
      "\u001b[32m2025-01-15 17:38:56.619\u001b[0m | \u001b[1mINFO    \u001b[0m | \u001b[36m__main__\u001b[0m:\u001b[36moptimize_hdb\u001b[0m:\u001b[36m64\u001b[0m - \u001b[1m| 0 | 5 | 7 | 400 | 0.2 | 0.1 | 0.00348 | 91.6% | 10 |\u001b[0m\n"
     ]
    },
    {
     "name": "stdout",
     "output_type": "stream",
     "text": [
      "DBCV score :0.0034839107172065877\n",
      "Percent of data retained: 0.9163572358586102\n",
      "Total Clusters found: 10\n",
      "Cluster splits: [562, 801, 743, 3754, 8706, 7695, 760, 3139, 5479, 6366]\n",
      "Best Parameters {'min_samples': 7, 'min_cluster_size': 400, 'cluster_selection_epsilon': 0.2, 'alpha': 0.1}\n"
     ]
    },
    {
     "name": "stderr",
     "output_type": "stream",
     "text": [
      "\u001b[32m2025-01-15 17:44:55.099\u001b[0m | \u001b[1mINFO    \u001b[0m | \u001b[36m__main__\u001b[0m:\u001b[36moptimize_hdb\u001b[0m:\u001b[36m64\u001b[0m - \u001b[1m| 0 | 6 | 7 | 400 | 0.2 | 0.1 | 0.00352 | 90.1% | 10 |\u001b[0m\n"
     ]
    },
    {
     "name": "stdout",
     "output_type": "stream",
     "text": [
      "DBCV score :0.0035155989799579147\n",
      "Percent of data retained: 0.9007486994992464\n",
      "Total Clusters found: 10\n",
      "Cluster splits: [1085, 711, 3637, 5616, 3861, 1159, 1469, 5789, 5080, 8648]\n",
      "Best Parameters {'min_samples': 7, 'min_cluster_size': 400, 'cluster_selection_epsilon': 0.2, 'alpha': 0.1}\n"
     ]
    },
    {
     "name": "stderr",
     "output_type": "stream",
     "text": [
      "\u001b[32m2025-01-15 17:51:05.070\u001b[0m | \u001b[1mINFO    \u001b[0m | \u001b[36m__main__\u001b[0m:\u001b[36moptimize_hdb\u001b[0m:\u001b[36m64\u001b[0m - \u001b[1m| 0 | 7 | 7 | 400 | 0.2 | 0.1 | 0.00548 | 88.1% | 11 |\u001b[0m\n"
     ]
    },
    {
     "name": "stdout",
     "output_type": "stream",
     "text": [
      "DBCV score :0.0054789591409582375\n",
      "Percent of data retained: 0.8808961402654328\n",
      "Total Clusters found: 11\n",
      "Cluster splits: [1153, 723, 2526, 1402, 3740, 4947, 483, 2504, 4173, 6151, 8372]\n",
      "Best Parameters {'min_samples': 7, 'min_cluster_size': 400, 'cluster_selection_epsilon': 0.2, 'alpha': 0.1}\n"
     ]
    },
    {
     "name": "stderr",
     "output_type": "stream",
     "text": [
      "\u001b[32m2025-01-15 17:57:14.030\u001b[0m | \u001b[1mINFO    \u001b[0m | \u001b[36m__main__\u001b[0m:\u001b[36moptimize_hdb\u001b[0m:\u001b[36m64\u001b[0m - \u001b[1m| 0 | 8 | 7 | 400 | 0.2 | 0.1 | 0.00314 | 87.5% | 12 |\u001b[0m\n"
     ]
    },
    {
     "name": "stdout",
     "output_type": "stream",
     "text": [
      "DBCV score :0.003136611784931465\n",
      "Percent of data retained: 0.8745511834102733\n",
      "Total Clusters found: 12\n",
      "Cluster splits: [581, 1071, 485, 1842, 4295, 3792, 1841, 992, 3081, 3669, 6778, 7378]\n",
      "Best Parameters {'min_samples': 7, 'min_cluster_size': 400, 'cluster_selection_epsilon': 0.2, 'alpha': 0.1}\n"
     ]
    },
    {
     "name": "stderr",
     "output_type": "stream",
     "text": [
      "\u001b[32m2025-01-15 18:02:55.815\u001b[0m | \u001b[1mINFO    \u001b[0m | \u001b[36m__main__\u001b[0m:\u001b[36moptimize_hdb\u001b[0m:\u001b[36m64\u001b[0m - \u001b[1m| 0 | 9 | 7 | 400 | 0.2 | 0.1 | 0.00245 | 72.5% | 13 |\u001b[0m\n"
     ]
    },
    {
     "name": "stdout",
     "output_type": "stream",
     "text": [
      "DBCV score :0.002453085731905016\n",
      "Percent of data retained: 0.7250782625709254\n",
      "Total Clusters found: 13\n",
      "Cluster splits: [1090, 650, 638, 2143, 1169, 3593, 3859, 1714, 4563, 2038, 7132, 451, 607]\n",
      "Best Parameters {'min_samples': 7, 'min_cluster_size': 400, 'cluster_selection_epsilon': 0.2, 'alpha': 0.1}\n"
     ]
    },
    {
     "name": "stderr",
     "output_type": "stream",
     "text": [
      "\u001b[32m2025-01-15 18:09:18.525\u001b[0m | \u001b[1mINFO    \u001b[0m | \u001b[36m__main__\u001b[0m:\u001b[36moptimize_hdb\u001b[0m:\u001b[36m64\u001b[0m - \u001b[1m| 0 | 10 | 7 | 400 | 0.2 | 0.1 | 0.01715 | 68.3% | 13 |\u001b[0m\n"
     ]
    },
    {
     "name": "stdout",
     "output_type": "stream",
     "text": [
      "DBCV score :0.017145069925247065\n",
      "Percent of data retained: 0.6834736635989818\n",
      "Total Clusters found: 13\n",
      "Cluster splits: [1138, 895, 3083, 908, 2692, 3909, 1390, 492, 2100, 5080, 5234, 498, 505]\n",
      "Best Parameters {'min_samples': 7, 'min_cluster_size': 400, 'cluster_selection_epsilon': 0.2, 'alpha': 0.1}\n"
     ]
    },
    {
     "name": "stderr",
     "output_type": "stream",
     "text": [
      "\u001b[32m2025-01-15 18:16:28.352\u001b[0m | \u001b[1mINFO    \u001b[0m | \u001b[36m__main__\u001b[0m:\u001b[36moptimize_hdb\u001b[0m:\u001b[36m64\u001b[0m - \u001b[1m| 0 | 11 | 7 | 400 | 0.2 | 0.1 | 0.00272 | 80.9% | 13 |\u001b[0m\n"
     ]
    },
    {
     "name": "stdout",
     "output_type": "stream",
     "text": [
      "DBCV score :0.002716290384891811\n",
      "Percent of data retained: 0.8085200689485349\n",
      "Total Clusters found: 13\n",
      "Cluster splits: [828, 459, 731, 628, 2797, 801, 4015, 2545, 6173, 5474, 3966, 1275, 3142]\n",
      "Best Parameters {'min_samples': 7, 'min_cluster_size': 400, 'cluster_selection_epsilon': 0.2, 'alpha': 0.1}\n"
     ]
    },
    {
     "name": "stderr",
     "output_type": "stream",
     "text": [
      "\u001b[32m2025-01-15 18:24:48.538\u001b[0m | \u001b[1mINFO    \u001b[0m | \u001b[36m__main__\u001b[0m:\u001b[36moptimize_hdb\u001b[0m:\u001b[36m64\u001b[0m - \u001b[1m| 0 | 12 | 7 | 400 | 0.2 | 0.1 | 0.01302 | 80.0% | 13 |\u001b[0m\n"
     ]
    },
    {
     "name": "stdout",
     "output_type": "stream",
     "text": [
      "DBCV score :0.013018422489304122\n",
      "Percent of data retained: 0.8003054036746958\n",
      "Total Clusters found: 13\n",
      "Cluster splits: [880, 490, 1033, 3549, 5761, 3028, 5471, 402, 748, 1864, 2024, 3456, 3788]\n",
      "Best Parameters {'min_samples': 7, 'min_cluster_size': 400, 'cluster_selection_epsilon': 0.2, 'alpha': 0.1}\n"
     ]
    },
    {
     "name": "stderr",
     "output_type": "stream",
     "text": [
      "\u001b[32m2025-01-15 18:31:54.952\u001b[0m | \u001b[1mINFO    \u001b[0m | \u001b[36m__main__\u001b[0m:\u001b[36moptimize_hdb\u001b[0m:\u001b[36m64\u001b[0m - \u001b[1m| 0 | 13 | 7 | 400 | 0.2 | 0.1 | 0.01188 | 76.9% | 12 |\u001b[0m\n"
     ]
    },
    {
     "name": "stdout",
     "output_type": "stream",
     "text": [
      "DBCV score :0.01188485518374608\n",
      "Percent of data retained: 0.7686140598322322\n",
      "Total Clusters found: 12\n",
      "Cluster splits: [813, 476, 1565, 2124, 4141, 4456, 5751, 1607, 3395, 3504, 928, 2302]\n",
      "Best Parameters {'min_samples': 7, 'min_cluster_size': 400, 'cluster_selection_epsilon': 0.2, 'alpha': 0.1}\n"
     ]
    },
    {
     "name": "stderr",
     "output_type": "stream",
     "text": [
      "\u001b[32m2025-01-15 18:39:50.334\u001b[0m | \u001b[1mINFO    \u001b[0m | \u001b[36m__main__\u001b[0m:\u001b[36moptimize_hdb\u001b[0m:\u001b[36m64\u001b[0m - \u001b[1m| 0 | 14 | 7 | 400 | 0.2 | 0.1 | 0.01292 | 75.2% | 12 |\u001b[0m\n"
     ]
    },
    {
     "name": "stdout",
     "output_type": "stream",
     "text": [
      "DBCV score :0.012918127462438554\n",
      "Percent of data retained: 0.7519907018151244\n",
      "Total Clusters found: 12\n",
      "Cluster splits: [771, 694, 2119, 1385, 4519, 5373, 3742, 1325, 2708, 1210, 3810, 2753]\n",
      "Best Parameters {'min_samples': 7, 'min_cluster_size': 400, 'cluster_selection_epsilon': 0.2, 'alpha': 0.1}\n"
     ]
    },
    {
     "name": "stderr",
     "output_type": "stream",
     "text": [
      "\u001b[32m2025-01-15 18:47:55.733\u001b[0m | \u001b[1mINFO    \u001b[0m | \u001b[36m__main__\u001b[0m:\u001b[36moptimize_hdb\u001b[0m:\u001b[36m64\u001b[0m - \u001b[1m| 0 | 15 | 7 | 400 | 0.2 | 0.1 | 0.00821 | 74.0% | 13 |\u001b[0m\n"
     ]
    },
    {
     "name": "stdout",
     "output_type": "stream",
     "text": [
      "DBCV score :0.008214462956997834\n",
      "Percent of data retained: 0.7399667006287121\n",
      "Total Clusters found: 13\n",
      "Cluster splits: [501, 908, 990, 2711, 4685, 2919, 4657, 3575, 3274, 791, 2457, 621, 1688]\n",
      "Best Parameters {'min_samples': 7, 'min_cluster_size': 400, 'cluster_selection_epsilon': 0.2, 'alpha': 0.1}\n"
     ]
    },
    {
     "name": "stderr",
     "output_type": "stream",
     "text": [
      "\u001b[32m2025-01-15 18:55:59.138\u001b[0m | \u001b[1mINFO    \u001b[0m | \u001b[36m__main__\u001b[0m:\u001b[36moptimize_hdb\u001b[0m:\u001b[36m64\u001b[0m - \u001b[1m| 0 | 16 | 7 | 400 | 0.2 | 0.1 | 0.00646 | 71.6% | 14 |\u001b[0m\n"
     ]
    },
    {
     "name": "stdout",
     "output_type": "stream",
     "text": [
      "DBCV score :0.006455136674137434\n",
      "Percent of data retained: 0.7163774673097002\n",
      "Total Clusters found: 14\n",
      "Cluster splits: [400, 541, 412, 3212, 1277, 4603, 2035, 3984, 478, 1761, 3366, 3445, 1068, 2235]\n",
      "Best Parameters {'min_samples': 7, 'min_cluster_size': 400, 'cluster_selection_epsilon': 0.2, 'alpha': 0.1}\n"
     ]
    },
    {
     "name": "stderr",
     "output_type": "stream",
     "text": [
      "\u001b[32m2025-01-15 19:06:35.705\u001b[0m | \u001b[1mINFO    \u001b[0m | \u001b[36m__main__\u001b[0m:\u001b[36moptimize_hdb\u001b[0m:\u001b[36m64\u001b[0m - \u001b[1m| 0 | 17 | 7 | 400 | 0.2 | 0.1 | 0.00036 | 68.0% | 12 |\u001b[0m\n"
     ]
    },
    {
     "name": "stdout",
     "output_type": "stream",
     "text": [
      "DBCV score :0.00036382895595821733\n",
      "Percent of data retained: 0.6802637516923231\n",
      "Total Clusters found: 12\n",
      "Cluster splits: [1284, 3031, 592, 1842, 3390, 3900, 1259, 2802, 3620, 2898, 1588, 927]\n",
      "Best Parameters {'min_samples': 7, 'min_cluster_size': 400, 'cluster_selection_epsilon': 0.2, 'alpha': 0.1}\n"
     ]
    },
    {
     "name": "stderr",
     "output_type": "stream",
     "text": [
      "\u001b[32m2025-01-15 19:16:31.677\u001b[0m | \u001b[1mINFO    \u001b[0m | \u001b[36m__main__\u001b[0m:\u001b[36moptimize_hdb\u001b[0m:\u001b[36m64\u001b[0m - \u001b[1m| 0 | 18 | 7 | 400 | 0.2 | 0.1 | 0.00042 | 66.6% | 13 |\u001b[0m\n"
     ]
    },
    {
     "name": "stdout",
     "output_type": "stream",
     "text": [
      "DBCV score :0.00041756506621666285\n",
      "Percent of data retained: 0.665539853599024\n",
      "Total Clusters found: 13\n",
      "Cluster splits: [880, 2153, 3248, 3107, 2149, 1023, 3400, 3351, 405, 2083, 812, 2232, 1342]\n",
      "Best Parameters {'min_samples': 7, 'min_cluster_size': 400, 'cluster_selection_epsilon': 0.2, 'alpha': 0.1}\n"
     ]
    },
    {
     "name": "stderr",
     "output_type": "stream",
     "text": [
      "\u001b[32m2025-01-15 19:26:08.935\u001b[0m | \u001b[1mINFO    \u001b[0m | \u001b[36m__main__\u001b[0m:\u001b[36moptimize_hdb\u001b[0m:\u001b[36m64\u001b[0m - \u001b[1m| 0 | 19 | 7 | 400 | 0.2 | 0.1 | 0.00056 | 65.6% | 14 |\u001b[0m\n",
      "\u001b[32m2025-01-15 19:26:08.937\u001b[0m | \u001b[1mINFO    \u001b[0m | \u001b[36m__main__\u001b[0m:\u001b[36m<module>\u001b[0m:\u001b[36m19\u001b[0m - \u001b[1mall done!\u001b[0m\n"
     ]
    },
    {
     "name": "stdout",
     "output_type": "stream",
     "text": [
      "DBCV score :0.0005554729846316405\n",
      "Percent of data retained: 0.6562939381880886\n",
      "Total Clusters found: 14\n",
      "Cluster splits: [2292, 526, 1342, 2601, 701, 2203, 1331, 512, 3215, 2880, 1393, 2549, 2053, 1141]\n"
     ]
    }
   ],
   "source": [
    "logger.info(\"starting...\")\n",
    "for inns in range(1):\n",
    "    for over in range(20):\n",
    "        X = extract_values(train_dfs[inns][over], X_values)\n",
    "        # X = X.sample(1_000)\n",
    "        scaler = preprocessing.StandardScaler().fit(X)\n",
    "        X_scaled = scaler.transform(X)\n",
    "        optimize_hdb(\n",
    "            X_scaled,\n",
    "            {\n",
    "                \"min_samples\": [5, 7, 10, 14, 20, 28, 40, 56, 80],\n",
    "                \"min_cluster_size\": [20, 30, 50, 70, 100, 140, 200, 280, 400],\n",
    "                \"cluster_selection_epsilon\": [0.1, 0.14, 0.2, 0.28, 0.4, 0.56, 0.8, 1.12, 1.6, 2.24],\n",
    "                \"alpha\": [0.1, 0.3, 0.5, 0.7, 1.0, 1.3],\n",
    "            },\n",
    "            inns,\n",
    "            over,\n",
    "        )\n",
    "logger.info(\"all done!\")"
   ]
  },
  {
   "cell_type": "markdown",
   "metadata": {},
   "source": [
    "| over | min_samples | min_cluster_size | metric | cluster_selection_method | dbcv score | % data retained | clusters |\n",
    "| --- | --- | --- | --- | --- | --- | --- | --- |\n",
    "| 0 | 60 | 50 | leaf | euclidean | 0.01718671973211158 | 0.3267860971484384 | 30 |\n",
    "| 1 | 60 | 50 | leaf | euclidean | 0.0004236590487102877 | 0.3814011337271879 | 21 |\n",
    "| 2 | 60 | 50 | leaf | euclidean | 0.0001322767377816463 | 0.49497887748943875 | 25 |\n",
    "| 3 | 60 | 50 | leaf | euclidean | 0.010659961352848637 | 0.5143344668594871 | 21 |\n",
    "| 4 | 60 | 50 | leaf | euclidean | 0.00010486661772658043 | 0.46883310867426864 | 18 |\n",
    "| 5 | 60 | 50 | leaf | euclidean | 0.00014236732093149724 | 0.33991540814958376 | 16 |\n",
    "| 6 | 60 | 50 | leaf | euclidean | 5.389679115965339e-05 | 0.2649577908493515 | 16 |\n",
    "| 7 | 60 | 50 | leaf | euclidean | 0.00024103239727212846 | 0.17515262364368867 | 16 |\n",
    "| 8 | 60 | 50 | leaf | euclidean | 0.14586455105206522 | 0.2875743170280636 | 13 |\n",
    "| 9 | 60 | 50 | leaf | euclidean | 0.16179595204736644 | 0.5197726026031018 | 11 |\n",
    "| 10 | 60 | 50 | leaf | euclidean | 0.0027864273693727357 | 0.6821199518989879 | 10 |\n",
    "| 11 | 60 | 50 | leaf | euclidean | 0.2569892575528506 | 0.6621440324009619 | 9 |\n",
    "| 12 | 60 | 50 | leaf | euclidean | 0.2213270535430393 | 0.6541379266380223 | 9 |\n",
    "| 13 | 60 | 50 | leaf | euclidean | 0.00023074855116647224 | 0.9396190402496744 | 8 |\n",
    "| 14 | 60 | 50 | leaf | euclidean | 0.00010857887839013185 | 0.9383274896645559 | 8 |\n",
    "| 15 | 60 | 50 | leaf | euclidean | 0.00016876378769864825 | 0.9377187219264961 | 7 |\n",
    "| 16 | 60 | 50 | leaf | euclidean | 0.005322336377586585 | 0.942445151427509 | 5 |\n",
    "| 17 | 60 | 50 | leaf | euclidean | 0.004093128615905713 | 0.9420499818906194 | 5 |\n",
    "| 18 | 60 | 50 | leaf | euclidean | 0.002438867408535001 | 0.9408895265423243 | 5 |\n",
    "| 19 | 60 | 50 | leaf | euclidean | 0.002230152927614161 | 0.9363866176877197 | 5 |"
   ]
  },
  {
   "cell_type": "code",
   "execution_count": null,
   "metadata": {},
   "outputs": [],
   "source": []
  }
 ],
 "metadata": {
  "kernelspec": {
   "display_name": "venv",
   "language": "python",
   "name": "python3"
  },
  "language_info": {
   "codemirror_mode": {
    "name": "ipython",
    "version": 3
   },
   "file_extension": ".py",
   "mimetype": "text/x-python",
   "name": "python",
   "nbconvert_exporter": "python",
   "pygments_lexer": "ipython3",
   "version": "3.13.1"
  }
 },
 "nbformat": 4,
 "nbformat_minor": 2
}
