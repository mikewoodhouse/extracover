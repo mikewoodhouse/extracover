{
 "cells": [
  {
   "cell_type": "code",
   "execution_count": 1,
   "metadata": {},
   "outputs": [],
   "source": [
    "%load_ext autoreload\n",
    "%autoreload 2"
   ]
  },
  {
   "cell_type": "code",
   "execution_count": 2,
   "metadata": {},
   "outputs": [],
   "source": [
    "from collections import defaultdict\n",
    "import pandas as pd\n",
    "import plotly.express as px"
   ]
  },
  {
   "cell_type": "code",
   "execution_count": 3,
   "metadata": {},
   "outputs": [
    {
     "ename": "ModuleNotFoundError",
     "evalue": "No module named 'app'",
     "output_type": "error",
     "traceback": [
      "\u001b[0;31m---------------------------------------------------------------------------\u001b[0m",
      "\u001b[0;31mModuleNotFoundError\u001b[0m                       Traceback (most recent call last)",
      "Cell \u001b[0;32mIn[3], line 1\u001b[0m\n\u001b[0;32m----> 1\u001b[0m \u001b[38;5;28;01mfrom\u001b[39;00m \u001b[38;5;21;01mapp\u001b[39;00m\u001b[38;5;21;01m.\u001b[39;00m\u001b[38;5;21;01mutils\u001b[39;00m \u001b[38;5;28;01mimport\u001b[39;00m t20_matches\n",
      "\u001b[0;31mModuleNotFoundError\u001b[0m: No module named 'app'"
     ]
    }
   ],
   "source": [
    "from app.utils import t20_matches"
   ]
  },
  {
   "cell_type": "code",
   "execution_count": null,
   "metadata": {},
   "outputs": [],
   "source": [
    "from notebook_utils import Statter"
   ]
  },
  {
   "cell_type": "code",
   "execution_count": null,
   "metadata": {},
   "outputs": [],
   "source": [
    "matches = t20_matches()\n",
    "print(\"loaded\", len(matches), \"matches\")"
   ]
  },
  {
   "cell_type": "code",
   "execution_count": null,
   "metadata": {},
   "outputs": [],
   "source": [
    "stats = []\n",
    "\n",
    "over_tots = defaultdict(Statter)\n",
    "for m in matches:\n",
    "    for inns in m.innings:\n",
    "        for over in inns.overs:\n",
    "            over_tots[over.over].add(over.runs)\n",
    "stats = [{\"over\": k, \"division\": \"all matches\", \"avg runs\": v.mean} for k, v in over_tots.items()]\n",
    "\n",
    "over_tots = defaultdict(Statter)\n",
    "for m in matches:\n",
    "    if m.info.gender == \"male\":\n",
    "        for inns in m.innings:\n",
    "            for over in inns.overs:\n",
    "                over_tots[over.over].add(over.runs)\n",
    "stats.extend({\"over\": k, \"division\": \"males\", \"avg runs\": v.mean} for k, v in over_tots.items())\n",
    "\n",
    "over_tots = defaultdict(Statter)\n",
    "for m in matches:\n",
    "    if m.info.gender == \"female\":\n",
    "        for inns in m.innings:\n",
    "            for over in inns.overs:\n",
    "                over_tots[over.over].add(over.runs)\n",
    "stats.extend({\"over\": k, \"division\": \"females\", \"avg runs\": v.mean} for k, v in over_tots.items())"
   ]
  },
  {
   "cell_type": "code",
   "execution_count": null,
   "metadata": {},
   "outputs": [],
   "source": [
    "df = pd.DataFrame(stats)"
   ]
  },
  {
   "cell_type": "code",
   "execution_count": null,
   "metadata": {},
   "outputs": [],
   "source": [
    "fig = px.scatter(df, x=\"over\", y=\"avg runs\", color=\"division\")\n",
    "fig.show()"
   ]
  },
  {
   "cell_type": "code",
   "execution_count": null,
   "metadata": {},
   "outputs": [],
   "source": [
    "fig=px.scatter(df,x=\"over\", y=\"avg runs\", facet_col=\"division\")\n",
    "fig.show()"
   ]
  },
  {
   "cell_type": "code",
   "execution_count": null,
   "metadata": {},
   "outputs": [],
   "source": [
    "def collect_over_stats_by_year(yy: int) -> list[dict]:\n",
    "    over_tots = defaultdict(Statter)\n",
    "    for m in matches:\n",
    "        if m.info.dates[0].year == yy and m.info.gender==\"male\":\n",
    "            for inns in m.innings:\n",
    "                for over in inns.overs:\n",
    "                    over_tots[over.over].add(over.runs)\n",
    "    return [{\"over\": k, \"year\": yy, \"avg runs\": v.mean} for k, v in over_tots.items()]\n",
    "\n",
    "stats=[]\n",
    "for yr in range(2015,2025,2):\n",
    "    stats.extend(collect_over_stats_by_year(yr))\n",
    "df = pd.DataFrame(stats)\n",
    "df.head()\n",
    "fig = px.scatter(df, x=\"over\", y=\"avg runs\", color=\"year\")\n",
    "fig.show()"
   ]
  },
  {
   "cell_type": "code",
   "execution_count": null,
   "metadata": {},
   "outputs": [],
   "source": [
    "from typing import Callable\n",
    "from app.ingest.classes import Match\n",
    "def over_stats(matches,filter_func: Callable,filter_value, filtered_field: str) -> list[dict]:\n",
    "    over_tots = defaultdict(Statter)\n",
    "    for m in matches:\n",
    "        if filter_func(m) == filter_value:\n",
    "            for inns in m.innings:\n",
    "                for over in inns.overs:\n",
    "                    over_tots[over.over].add(over.runs)\n",
    "\n",
    "    return [{\"over\": k, filtered_field: filter_value, \"avg runs\": v.mean} for k, v in over_tots.items()]"
   ]
  },
  {
   "cell_type": "code",
   "execution_count": null,
   "metadata": {},
   "outputs": [],
   "source": [
    "males = [m for m in matches if m.info.gender == \"male\"]\n",
    "stats = []\n",
    "for yr in range(2010, 2024, 2):\n",
    "    stats.extend(over_stats(males, lambda m: m.info.dates[0].year, yr, \"year\"))\n",
    "df = pd.DataFrame(stats)\n",
    "fig = px.scatter(df, x=\"over\", y=\"avg runs\", color=\"year\")\n",
    "fig.show()"
   ]
  },
  {
   "cell_type": "code",
   "execution_count": null,
   "metadata": {},
   "outputs": [],
   "source": []
  }
 ],
 "metadata": {
  "kernelspec": {
   "display_name": "venv",
   "language": "python",
   "name": "python3"
  },
  "language_info": {
   "codemirror_mode": {
    "name": "ipython",
    "version": 3
   },
   "file_extension": ".py",
   "mimetype": "text/x-python",
   "name": "python",
   "nbconvert_exporter": "python",
   "pygments_lexer": "ipython3",
   "version": "3.12.2"
  }
 },
 "nbformat": 4,
 "nbformat_minor": 2
}
