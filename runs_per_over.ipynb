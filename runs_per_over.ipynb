{
 "cells": [
  {
   "cell_type": "code",
   "execution_count": null,
   "metadata": {},
   "outputs": [],
   "source": [
    "%load_ext autoreload\n",
    "%autoreload 2"
   ]
  },
  {
   "cell_type": "code",
   "execution_count": null,
   "metadata": {},
   "outputs": [],
   "source": [
    "from app.ingest.classes import Match\n",
    "from pathlib import Path\n",
    "from collections import defaultdict\n",
    "import pandas as pd\n",
    "import plotly.express as px"
   ]
  },
  {
   "cell_type": "code",
   "execution_count": null,
   "metadata": {},
   "outputs": [],
   "source": [
    "def t20_dirs():\n",
    "    for p in Path(\"matches\").glob(\"*\"):\n",
    "        for g in p.glob(\"*\"):\n",
    "            if \"T20\" in str(g):\n",
    "                yield g"
   ]
  },
  {
   "cell_type": "code",
   "execution_count": null,
   "metadata": {},
   "outputs": [],
   "source": [
    "matches = [Match.from_json(p.read_text()) for d in t20_dirs() for p in d.glob(\"*.json\")]\n",
    "print(\"loaded\", len(matches), \"matches\")"
   ]
  },
  {
   "cell_type": "code",
   "execution_count": null,
   "metadata": {},
   "outputs": [],
   "source": [
    "class Statter():\n",
    "    def __init__(self) -> None:\n",
    "        self.accumulator = 0.0\n",
    "        self.instance_count = 0\n",
    "\n",
    "    def add(self, quantity):\n",
    "        self.accumulator += quantity\n",
    "        self.instance_count += 1\n",
    "\n",
    "    @property\n",
    "    def mean(self):\n",
    "        return self.accumulator / self.instance_count"
   ]
  },
  {
   "cell_type": "code",
   "execution_count": null,
   "metadata": {},
   "outputs": [],
   "source": [
    "stats = {}\n",
    "\n",
    "over_tots = defaultdict(Statter)\n",
    "for m in matches:\n",
    "    for inns in m.innings:\n",
    "        for over in inns.overs:\n",
    "            over_tots[over.over].add(over.runs)\n",
    "stats = [{\"over\": k, \"division\": \"all matches\", \"avg runs\": v.mean} for k, v in over_tots.items()]\n",
    "\n",
    "over_tots = defaultdict(Statter)\n",
    "for m in matches:\n",
    "    if m.info.gender == \"male\":\n",
    "        for inns in m.innings:\n",
    "            for over in inns.overs:\n",
    "                over_tots[over.over].add(over.runs)\n",
    "stats.extend({\"over\": k, \"division\": \"males\", \"avg runs\": v.mean} for k, v in over_tots.items())\n",
    "\n",
    "over_tots = defaultdict(Statter)\n",
    "for m in matches:\n",
    "    if m.info.gender == \"female\":\n",
    "        for inns in m.innings:\n",
    "            for over in inns.overs:\n",
    "                over_tots[over.over].add(over.runs)\n",
    "stats.extend({\"over\": k, \"division\": \"females\", \"avg runs\": v.mean} for k, v in over_tots.items())"
   ]
  },
  {
   "cell_type": "code",
   "execution_count": null,
   "metadata": {},
   "outputs": [],
   "source": [
    "df = pd.DataFrame(stats)"
   ]
  },
  {
   "cell_type": "code",
   "execution_count": null,
   "metadata": {},
   "outputs": [],
   "source": [
    "fig = px.scatter(df, x=\"over\", y=\"avg runs\", color=\"division\")\n",
    "fig.show()"
   ]
  },
  {
   "cell_type": "code",
   "execution_count": null,
   "metadata": {},
   "outputs": [],
   "source": [
    "fig=px.scatter(df,x=\"over\", y=\"avg runs\", facet_col=\"division\")\n",
    "fig.show()"
   ]
  }
 ],
 "metadata": {
  "kernelspec": {
   "display_name": "venv",
   "language": "python",
   "name": "python3"
  },
  "language_info": {
   "codemirror_mode": {
    "name": "ipython",
    "version": 3
   },
   "file_extension": ".py",
   "mimetype": "text/x-python",
   "name": "python",
   "nbconvert_exporter": "python",
   "pygments_lexer": "ipython3",
   "version": "3.12.2"
  }
 },
 "nbformat": 4,
 "nbformat_minor": 2
}
