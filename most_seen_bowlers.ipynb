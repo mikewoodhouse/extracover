{
 "cells": [
  {
   "cell_type": "code",
   "execution_count": null,
   "metadata": {},
   "outputs": [],
   "source": [
    "%load_ext autoreload\n",
    "%autoreload 2"
   ]
  },
  {
   "cell_type": "code",
   "execution_count": null,
   "metadata": {},
   "outputs": [],
   "source": [
    "from collections import defaultdict\n",
    "import pandas as pd\n",
    "import plotly.express as px"
   ]
  },
  {
   "cell_type": "code",
   "execution_count": null,
   "metadata": {},
   "outputs": [],
   "source": [
    "from app.notebook_utils import t20_matches, Statter"
   ]
  },
  {
   "cell_type": "code",
   "execution_count": null,
   "metadata": {},
   "outputs": [],
   "source": [
    "matches = t20_matches()\n",
    "print(\"loaded\", len(matches), \"matches\")"
   ]
  },
  {
   "cell_type": "code",
   "execution_count": null,
   "metadata": {},
   "outputs": [],
   "source": [
    "# how many names occur more than once?\n",
    "reg_names = defaultdict(set)\n",
    "for m in matches:\n",
    "    for nm,reg in m.info.registry.people.items():\n",
    "        reg_names[nm].add(reg)\n",
    "counts = {nm: len(regs) for nm,regs in reg_names.items()}\n",
    "print(sum(c>1 for c in counts.values()), \"names with >1 player\")\n",
    "for n,c in counts.items():\n",
    "    if c >= 2:\n",
    "        print(n,c)"
   ]
  },
  {
   "cell_type": "code",
   "execution_count": null,
   "metadata": {},
   "outputs": [],
   "source": [
    "# look for any instances of teams with >1 player with the same name\n",
    "for m in matches:\n",
    "    for tmnm, tm in m.info.players.items():\n",
    "        if len(tm) != len(set(tm)):\n",
    "            print(m.info.dates[0], m.info.teams)"
   ]
  },
  {
   "cell_type": "code",
   "execution_count": null,
   "metadata": {},
   "outputs": [],
   "source": []
  }
 ],
 "metadata": {
  "kernelspec": {
   "display_name": "venv",
   "language": "python",
   "name": "python3"
  },
  "language_info": {
   "codemirror_mode": {
    "name": "ipython",
    "version": 3
   },
   "file_extension": ".py",
   "mimetype": "text/x-python",
   "name": "python",
   "nbconvert_exporter": "python",
   "pygments_lexer": "ipython3",
   "version": "3.12.2"
  }
 },
 "nbformat": 4,
 "nbformat_minor": 2
}
