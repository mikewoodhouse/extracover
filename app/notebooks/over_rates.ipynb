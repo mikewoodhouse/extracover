{
 "cells": [
  {
   "cell_type": "code",
   "execution_count": 4,
   "metadata": {},
   "outputs": [],
   "source": [
    "import sqlite3\n",
    "db = sqlite3.connect(\"../male_t20.db\")\n",
    "db.row_factory = sqlite3.Row"
   ]
  },
  {
   "cell_type": "code",
   "execution_count": 10,
   "metadata": {},
   "outputs": [],
   "source": [
    "baseline_sql= \"\"\"WITH\n",
    "\tover_runs AS (\n",
    "SELECT\n",
    "\tover\n",
    ",\tCAST(SUM(batter_runs) + SUM(extra_runs) AS FLOAT) AS runs\n",
    "FROM balls\n",
    "WHERE innings = 0\n",
    "GROUP BY match_id, over\n",
    "HAVING MAX(ball) = 5\n",
    ")\n",
    "SELECT\n",
    "\tover\n",
    ",\tSUM(runs) / COUNT(*) AS avg_runs\n",
    "FROM over_runs\n",
    "GROUP BY over\n",
    "ORDER BY over\"\"\""
   ]
  },
  {
   "cell_type": "code",
   "execution_count": 11,
   "metadata": {},
   "outputs": [
    {
     "name": "stdout",
     "output_type": "stream",
     "text": [
      "{'over': 0, 'avg_runs': 5.988781839778277}\n",
      "{'over': 1, 'avg_runs': 7.06852389754423}\n",
      "{'over': 2, 'avg_runs': 7.873365905189489}\n",
      "{'over': 3, 'avg_runs': 8.055350066050199}\n",
      "{'over': 4, 'avg_runs': 8.065987833906375}\n",
      "{'over': 5, 'avg_runs': 8.06520874751491}\n",
      "{'over': 6, 'avg_runs': 6.651539278131635}\n",
      "{'over': 7, 'avg_runs': 6.998271736240362}\n",
      "{'over': 8, 'avg_runs': 7.22747867803838}\n",
      "{'over': 9, 'avg_runs': 7.337203095809981}\n",
      "{'over': 10, 'avg_runs': 7.506763090933441}\n",
      "{'over': 11, 'avg_runs': 7.645334767410594}\n",
      "{'over': 12, 'avg_runs': 7.843610848738362}\n",
      "{'over': 13, 'avg_runs': 7.9626966901790555}\n",
      "{'over': 14, 'avg_runs': 8.36866485013624}\n",
      "{'over': 15, 'avg_runs': 8.62692096597146}\n",
      "{'over': 16, 'avg_runs': 9.207669943236882}\n",
      "{'over': 17, 'avg_runs': 9.624579596412556}\n",
      "{'over': 18, 'avg_runs': 10.28378183911354}\n",
      "{'over': 19, 'avg_runs': 11.134591961023142}\n"
     ]
    }
   ],
   "source": [
    "rows = db.execute(baseline_sql).fetchall()\n",
    "for row in rows:\n",
    "    print(dict(row))"
   ]
  },
  {
   "cell_type": "code",
   "execution_count": null,
   "metadata": {},
   "outputs": [],
   "source": []
  }
 ],
 "metadata": {
  "kernelspec": {
   "display_name": "venv",
   "language": "python",
   "name": "python3"
  },
  "language_info": {
   "codemirror_mode": {
    "name": "ipython",
    "version": 3
   },
   "file_extension": ".py",
   "mimetype": "text/x-python",
   "name": "python",
   "nbconvert_exporter": "python",
   "pygments_lexer": "ipython3",
   "version": "3.12.2"
  }
 },
 "nbformat": 4,
 "nbformat_minor": 2
}
