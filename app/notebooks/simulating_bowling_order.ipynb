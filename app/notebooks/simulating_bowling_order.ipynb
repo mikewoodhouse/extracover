{
 "cells": [
  {
   "cell_type": "code",
   "execution_count": null,
   "metadata": {},
   "outputs": [],
   "source": [
    "import sqlite3\n",
    "import random\n",
    "from dataclasses import dataclass, field\n",
    "from collections import defaultdict\n"
   ]
  },
  {
   "cell_type": "code",
   "execution_count": null,
   "metadata": {},
   "outputs": [],
   "source": [
    "db = sqlite3.connect(\"/home/mikew/extracover/male_t20.db\")\n",
    "db.row_factory = sqlite3.Row"
   ]
  },
  {
   "cell_type": "markdown",
   "metadata": {},
   "source": [
    "Looking at the IPL match between [Gujarat Titals & Royal Challengers Bengaluru, 2024-05-04 ](https://www.espncricinfo.com/series/indian-premier-league-2024-1410320/royal-challengers-bengaluru-vs-gujarat-titans-52nd-match-1426290/full-scorecard),\n",
    "let's try to estimate a viable bowling order for the first innings.\n",
    "\n",
    "We know the actual order was:\n",
    "\n",
    "| over | bowler | over | bowler |\n",
    "| --- | --- | --- | --- |\n",
    "|0|Swapnil Singh (1)|10|Cameron Green (3)|\n",
    "|1|Mohammed Siraj (1)|11|Karn Sharma (2)|\n",
    "|2|Yash Dayal (1)|12|Vijaykumar Vyshak (2)|\n",
    "|3|Mohammed Siraj (2)|13|Cameron Green (4)|\n",
    "|4|Yash Dayal (2)|14|Vijaykumar Vyshak (3)|\n",
    "|5|Cameron Green (1)|15|Karn Sharma (3)|\n",
    "|6|Vijaykumar Vyshak (1)|16|Mohammed Siraj (2)|\n",
    "|7|Cameron Green (2)|17|Yash Dayal (4)|\n",
    "|8|Yash Dayal (3)|18|Mohammed Siraj (3)|\n",
    "|9|Karn Sharma (1)|19|Vijaykumar Vyshak (4)|\n"
   ]
  },
  {
   "cell_type": "markdown",
   "metadata": {},
   "source": [
    "Look at the distribution of specific overs bowled by the bowlers we know about across all history we have.\n",
    "\n",
    "Possible enhancement(s) to consider later:\n",
    "\n",
    "* consider a \"recentness\" weighting - might the way particular bowlers are used across the innings have evolved?"
   ]
  },
  {
   "cell_type": "code",
   "execution_count": null,
   "metadata": {},
   "outputs": [],
   "source": [
    "sql=\"\"\"\n",
    "WITH over_allocs AS (\n",
    "\tSELECT DISTINCT b.over\n",
    "\t, b.match_id\n",
    "\t, b.bowled_by\n",
    "\tFROM balls b\n",
    ")\n",
    ", alloc_counts AS (\n",
    "\tSELECT\n",
    "\t\tover\n",
    "\t,\tbowled_by\n",
    "\t,   count(*) AS times_used\n",
    "\tFROM over_allocs\n",
    "\tGROUP BY over, bowled_by\n",
    ")\n",
    "SELECT\n",
    "\tc.over\n",
    ",\tp.name\n",
    ", \tc.times_used\n",
    "FROM alloc_counts c\n",
    "JOIN players p ON p.rowid = c.bowled_by\n",
    "WHERE p.rowid IN (2702, 2717, 374, 1753, 485, 509)\n",
    "ORDER BY p.name, c.over\n",
    "\"\"\""
   ]
  },
  {
   "cell_type": "code",
   "execution_count": null,
   "metadata": {},
   "outputs": [],
   "source": [
    "@dataclass\n",
    "class Usage:\n",
    "    over: int\n",
    "    name: str\n",
    "    times_used: int"
   ]
  },
  {
   "cell_type": "code",
   "execution_count": null,
   "metadata": {},
   "outputs": [],
   "source": [
    "usages =[Usage(**row) for row in db.execute(sql).fetchall()]"
   ]
  },
  {
   "cell_type": "code",
   "execution_count": null,
   "metadata": {},
   "outputs": [],
   "source": [
    "@dataclass()\n",
    "class Bowler:\n",
    "    name: str\n",
    "    overs: list[int] = field(default_factory=list)\n",
    "\n",
    "    @property\n",
    "    def weights(self) -> list[float]:\n",
    "        return [float(over) / self.total_bowled for over in self.overs]\n",
    "\n",
    "    @property\n",
    "    def total_bowled(self) -> int:\n",
    "        return sum(self.overs)\n"
   ]
  },
  {
   "cell_type": "code",
   "execution_count": null,
   "metadata": {},
   "outputs": [],
   "source": [
    "bowlers: dict[str, Bowler] = {}\n",
    "for u in usages:\n",
    "    if not bowlers.get(u.name):\n",
    "        bowlers[u.name] = Bowler(name=u.name, overs = [0]*20)\n",
    "    bowlers[u.name].overs[u.over] = u.times_used"
   ]
  },
  {
   "cell_type": "code",
   "execution_count": null,
   "metadata": {},
   "outputs": [],
   "source": [
    "@dataclass\n",
    "class OverWeight:\n",
    "    bowlers: dict[str, float] = field(default_factory=dict)\n",
    "\n",
    "    def selected(self) -> str:\n",
    "        weights= list(self.bowlers.values())\n",
    "        choices= random.choices(list(self.bowlers.keys()), weights=weights)\n",
    "        return choices[0]\n",
    "\n"
   ]
  },
  {
   "cell_type": "code",
   "execution_count": null,
   "metadata": {},
   "outputs": [],
   "source": [
    "over_weights = [\n",
    "    OverWeight(bowlers= {b.name: b.weights[ov] for b in bowlers.values()}) for ov in range(20)\n",
    "]"
   ]
  },
  {
   "cell_type": "code",
   "execution_count": null,
   "metadata": {},
   "outputs": [],
   "source": [
    "num_bowled = defaultdict(int)\n",
    "b, last_b = \"\", \"\"\n",
    "\n",
    "for ov in range(20):\n",
    "    while b == last_b or num_bowled[b] == 4:\n",
    "        b = over_weights[ov].selected()\n",
    "    num_bowled[b] += 1\n",
    "    print(b)\n",
    "    last_b = b\n"
   ]
  },
  {
   "cell_type": "code",
   "execution_count": null,
   "metadata": {},
   "outputs": [],
   "source": []
  },
  {
   "cell_type": "code",
   "execution_count": null,
   "metadata": {},
   "outputs": [],
   "source": []
  }
 ],
 "metadata": {
  "kernelspec": {
   "display_name": "venv",
   "language": "python",
   "name": "python3"
  },
  "language_info": {
   "codemirror_mode": {
    "name": "ipython",
    "version": 3
   },
   "file_extension": ".py",
   "mimetype": "text/x-python",
   "name": "python",
   "nbconvert_exporter": "python",
   "pygments_lexer": "ipython3",
   "version": "3.12.7"
  }
 },
 "nbformat": 4,
 "nbformat_minor": 2
}
