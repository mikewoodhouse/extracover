{
 "cells": [
  {
   "cell_type": "code",
   "execution_count": null,
   "metadata": {},
   "outputs": [],
   "source": [
    "%load_ext sql\n",
    "%sql sqlite://///home/mikew/extracover/male_t20.db"
   ]
  },
  {
   "cell_type": "code",
   "execution_count": null,
   "metadata": {},
   "outputs": [],
   "source": [
    "%config SqlMagic.displaylimit=20"
   ]
  },
  {
   "cell_type": "markdown",
   "metadata": {},
   "source": [
    "## Run distribution by phase of innings"
   ]
  },
  {
   "cell_type": "code",
   "execution_count": null,
   "metadata": {},
   "outputs": [],
   "source": [
    "qry = \"\"\"\n",
    "WITH phased AS (\n",
    "    SELECT\n",
    "        *\n",
    "    ,   CASE\n",
    "        WHEN over BETWEEN 0 AND 5 THEN '0 powerplay'\n",
    "        WHEN over BETWEEN 6 AND 17 THEN '1 mid-innings'\n",
    "        ELSE '2 last two'\n",
    "        END as phase\n",
    "    FROM balls\n",
    ")\n",
    "SELECT phase, batter_runs, COUNT(*) AS count\n",
    "FROM phased\n",
    "WHERE innings < 2\n",
    "AND extra_type = ''\n",
    "AND batter_runs in (0,1,2,3,4,6)\n",
    "GROUP BY phase, batter_runs\n",
    "\"\"\"\n",
    "result = %sql {{qry}}\n",
    "df=result.DataFrame()\n",
    "df.pivot(columns=\"phase\", index=\"batter_runs\", values=\"count\")"
   ]
  },
  {
   "cell_type": "markdown",
   "metadata": {},
   "source": [
    "## Average runs by over"
   ]
  },
  {
   "cell_type": "code",
   "execution_count": null,
   "metadata": {},
   "outputs": [],
   "source": [
    "sql= \"\"\"\n",
    "WITH over_runs AS (\n",
    "SELECT\n",
    "\tover\n",
    ",\tCAST(SUM(batter_runs) + SUM(extra_runs) AS FLOAT) AS runs\n",
    "FROM balls\n",
    "WHERE innings = 0\n",
    "GROUP BY match_id, over\n",
    "HAVING MAX(ball) = 5\n",
    ")\n",
    "SELECT\n",
    "\tover\n",
    ",\tSUM(runs) / COUNT(*) AS avg_runs\n",
    "FROM over_runs\n",
    "GROUP BY over\n",
    "ORDER BY over\n",
    "\"\"\"\n",
    "\n",
    "result=%sql {{sql}}\n",
    "df=result.DataFrame()\n",
    "df.plot(x=\"over\", y=\"avg_runs\", kind=\"bar\")"
   ]
  },
  {
   "cell_type": "markdown",
   "metadata": {},
   "source": [
    "## Batsman \"Aggression\"\n",
    "\n",
    "First, what's the average *batter only* runs per ball in each over?"
   ]
  },
  {
   "cell_type": "code",
   "execution_count": null,
   "metadata": {},
   "outputs": [],
   "source": [
    "sql= \"\"\"\n",
    "WITH over_runs AS (\n",
    "SELECT\n",
    "\tover\n",
    ",\tCAST(SUM(batter_runs) AS FLOAT) AS runs\n",
    "FROM balls\n",
    "WHERE innings = 0\n",
    "GROUP BY match_id, over\n",
    "HAVING MAX(ball) = 5\n",
    ")\n",
    "SELECT\n",
    "\tover\n",
    ",\tSUM(runs) / COUNT(*) / 6 AS avg_runs\n",
    "FROM over_runs\n",
    "GROUP BY over\n",
    "ORDER BY over\n",
    "\"\"\"\n",
    "\n",
    "result=%sql {{sql}}\n",
    "df=result.DataFrame()\n",
    "df.plot(x=\"over\", y=\"avg_runs\", kind=\"bar\")"
   ]
  },
  {
   "cell_type": "markdown",
   "metadata": {},
   "source": [
    "Now, take a batsman - #137 CH Gayle has the most ball faced (and is, or was, notoriously aggressive)"
   ]
  },
  {
   "cell_type": "code",
   "execution_count": null,
   "metadata": {},
   "outputs": [],
   "source": [
    "sql = \"\"\"SELECT\n",
    "\tover\n",
    ",\tCOUNT(*)\n",
    ",\tSUM(CAST(batter_runs AS FLOAT)) / COUNT(*) AS avg_runs\n",
    "FROM balls\n",
    "WHERE batter = 137\n",
    "GROUP BY over\n",
    "ORDER BY over\"\"\"\n",
    "\n",
    "result=%sql {{sql}}\n",
    "df_gayle=result.DataFrame()\n",
    "gayle = df_gayle[\"avg_runs\"] - df[\"avg_runs\"]\n",
    "gayle.plot(kind=\"bar\")\n",
    "gayle.sum()"
   ]
  },
  {
   "cell_type": "markdown",
   "metadata": {},
   "source": [
    "...or Virat Kohli (coincidentally #138 at time of computing)"
   ]
  },
  {
   "cell_type": "code",
   "execution_count": null,
   "metadata": {},
   "outputs": [],
   "source": [
    "sql = \"\"\"\n",
    "SELECT\n",
    "\tover\n",
    ",\tCOUNT(*)\n",
    ",\tSUM(CAST(batter_runs AS FLOAT)) / COUNT(*) AS avg_runs\n",
    "FROM balls\n",
    "WHERE batter = 138\n",
    "GROUP BY over\n",
    "ORDER BY over\"\"\"\n",
    "\n",
    "result=%sql {{sql}}\n",
    "df_kohli=result.DataFrame()\n",
    "kohli = df_kohli[\"avg_runs\"] - df[\"avg_runs\"]\n",
    "kohli.plot(kind=\"bar\")\n",
    "kohli.sum()"
   ]
  },
  {
   "cell_type": "markdown",
   "metadata": {},
   "source": [
    "Can we (usefully) fir some kind of curve (straight line) to that?"
   ]
  },
  {
   "cell_type": "code",
   "execution_count": null,
   "metadata": {},
   "outputs": [],
   "source": [
    "df_kohli"
   ]
  },
  {
   "cell_type": "code",
   "execution_count": null,
   "metadata": {},
   "outputs": [],
   "source": [
    "df_gayle"
   ]
  },
  {
   "cell_type": "code",
   "execution_count": null,
   "metadata": {},
   "outputs": [],
   "source": []
  }
 ],
 "metadata": {
  "kernelspec": {
   "display_name": "venv",
   "language": "python",
   "name": "python3"
  },
  "language_info": {
   "codemirror_mode": {
    "name": "ipython",
    "version": 3
   },
   "file_extension": ".py",
   "mimetype": "text/x-python",
   "name": "python",
   "nbconvert_exporter": "python",
   "pygments_lexer": "ipython3",
   "version": "3.12.7"
  }
 },
 "nbformat": 4,
 "nbformat_minor": 2
}
