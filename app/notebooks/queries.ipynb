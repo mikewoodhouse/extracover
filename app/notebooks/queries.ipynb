{
 "cells": [
  {
   "cell_type": "code",
   "execution_count": 1,
   "metadata": {},
   "outputs": [
    {
     "data": {
      "text/html": [
       "<span style=\"None\">Tip: You may define configurations in /home/mikew/extracover/pyproject.toml or /home/mikew/.jupysql/config. </span>"
      ],
      "text/plain": [
       "Tip: You may define configurations in /home/mikew/extracover/pyproject.toml or /home/mikew/.jupysql/config. "
      ]
     },
     "metadata": {},
     "output_type": "display_data"
    },
    {
     "data": {
      "text/html": [
       "Please review our <a href='https://jupysql.ploomber.io/en/latest/api/configuration.html#loading-from-a-file'>configuration guideline</a>."
      ],
      "text/plain": [
       "<IPython.core.display.HTML object>"
      ]
     },
     "metadata": {},
     "output_type": "display_data"
    },
    {
     "data": {
      "text/html": [
       "<span style=\"None\">Did not find user configurations in /home/mikew/extracover/pyproject.toml.</span>"
      ],
      "text/plain": [
       "Did not find user configurations in /home/mikew/extracover/pyproject.toml."
      ]
     },
     "metadata": {},
     "output_type": "display_data"
    },
    {
     "data": {
      "text/html": [
       "<span style=\"None\">Connecting to &#x27;sqlite://///home/mikew/extracover/male_t20.db&#x27;</span>"
      ],
      "text/plain": [
       "Connecting to 'sqlite://///home/mikew/extracover/male_t20.db'"
      ]
     },
     "metadata": {},
     "output_type": "display_data"
    }
   ],
   "source": [
    "%load_ext sql\n",
    "%sql sqlite://///home/mikew/extracover/male_t20.db"
   ]
  },
  {
   "cell_type": "code",
   "execution_count": 3,
   "metadata": {},
   "outputs": [
    {
     "data": {
      "text/html": [
       "<span style=\"None\">Running query in &#x27;sqlite://///home/mikew/extracover/male_t20.db&#x27;</span>"
      ],
      "text/plain": [
       "Running query in 'sqlite://///home/mikew/extracover/male_t20.db'"
      ]
     },
     "metadata": {},
     "output_type": "display_data"
    },
    {
     "data": {
      "text/html": [
       "<table>\n",
       "    <thead>\n",
       "        <tr>\n",
       "            <th>phase</th>\n",
       "            <th>batter_runs</th>\n",
       "            <th>COUNT(*)</th>\n",
       "        </tr>\n",
       "    </thead>\n",
       "    <tbody>\n",
       "        <tr>\n",
       "            <td>0</td>\n",
       "            <td>0</td>\n",
       "            <td>255696</td>\n",
       "        </tr>\n",
       "        <tr>\n",
       "            <td>0</td>\n",
       "            <td>1</td>\n",
       "            <td>150345</td>\n",
       "        </tr>\n",
       "        <tr>\n",
       "            <td>0</td>\n",
       "            <td>2</td>\n",
       "            <td>26295</td>\n",
       "        </tr>\n",
       "        <tr>\n",
       "            <td>0</td>\n",
       "            <td>3</td>\n",
       "            <td>3209</td>\n",
       "        </tr>\n",
       "        <tr>\n",
       "            <td>0</td>\n",
       "            <td>4</td>\n",
       "            <td>80103</td>\n",
       "        </tr>\n",
       "        <tr>\n",
       "            <td>0</td>\n",
       "            <td>5</td>\n",
       "            <td>205</td>\n",
       "        </tr>\n",
       "        <tr>\n",
       "            <td>0</td>\n",
       "            <td>6</td>\n",
       "            <td>19391</td>\n",
       "        </tr>\n",
       "        <tr>\n",
       "            <td>0</td>\n",
       "            <td>7</td>\n",
       "            <td>1</td>\n",
       "        </tr>\n",
       "        <tr>\n",
       "            <td>1</td>\n",
       "            <td>0</td>\n",
       "            <td>331451</td>\n",
       "        </tr>\n",
       "        <tr>\n",
       "            <td>1</td>\n",
       "            <td>1</td>\n",
       "            <td>460746</td>\n",
       "        </tr>\n",
       "    </tbody>\n",
       "</table>\n",
       "<span style=\"font-style:italic;text-align:center;\">Truncated to <a href=\"https://jupysql.ploomber.io/en/latest/api/configuration.html#displaylimit\">displaylimit</a> of 10.</span>"
      ],
      "text/plain": [
       "+-------+-------------+----------+\n",
       "| phase | batter_runs | COUNT(*) |\n",
       "+-------+-------------+----------+\n",
       "|   0   |      0      |  255696  |\n",
       "|   0   |      1      |  150345  |\n",
       "|   0   |      2      |  26295   |\n",
       "|   0   |      3      |   3209   |\n",
       "|   0   |      4      |  80103   |\n",
       "|   0   |      5      |   205    |\n",
       "|   0   |      6      |  19391   |\n",
       "|   0   |      7      |    1     |\n",
       "|   1   |      0      |  331451  |\n",
       "|   1   |      1      |  460746  |\n",
       "+-------+-------------+----------+\n",
       "Truncated to displaylimit of 10."
      ]
     },
     "execution_count": 3,
     "metadata": {},
     "output_type": "execute_result"
    }
   ],
   "source": [
    "%%sql\n",
    "WITH phased AS (\n",
    "    SELECT\n",
    "        *\n",
    "    ,   CASE\n",
    "        WHEN over BETWEEN 0 AND 5 THEN 0\n",
    "        WHEN over BETWEEN 6 AND 17 THEN 1\n",
    "        ELSE 2\n",
    "        END as phase\n",
    "    FROM balls\n",
    ")\n",
    "SELECT phase, batter_runs, COUNT(*)\n",
    "FROM phased\n",
    "WHERE innings < 2\n",
    "AND extra_type = ''\n",
    "GROUP BY phase, batter_runs"
   ]
  },
  {
   "cell_type": "code",
   "execution_count": 2,
   "metadata": {},
   "outputs": [
    {
     "name": "stdout",
     "output_type": "stream",
     "text": [
      "SqlMagic(Magics, Configurable) options\n",
      "------------------------------------\n",
      "SqlMagic.autocommit=<Bool>\n",
      "    Set autocommit mode\n",
      "    Current: True\n",
      "SqlMagic.autolimit=<Int>\n",
      "    Automatically limit the size of the returned result sets\n",
      "    Current: 0\n",
      "SqlMagic.autopandas=<Bool>\n",
      "    Return Pandas DataFrames instead of regular result sets\n",
      "    Current: False\n",
      "SqlMagic.autopolars=<Bool>\n",
      "    Return Polars DataFrames instead of regular result sets\n",
      "    Current: False\n",
      "SqlMagic.column_local_vars=<Bool>\n",
      "    Return data into local variables from column names\n",
      "    Current: False\n",
      "SqlMagic.displaycon=<Bool>\n",
      "    Show connection string after execution\n",
      "    Current: True\n",
      "SqlMagic.displaylimit=<Int>\n",
      "    Automatically limit the number of rows displayed (full result set is still\n",
      "    stored)\n",
      "    Current: 10\n",
      "SqlMagic.dsn_filename=<Unicode>\n",
      "    Path to DSN file. When the first argument is of the form [section], a\n",
      "    sqlalchemy connection string is formed from the matching section in the DSN\n",
      "    file.\n",
      "    Current: '/home/mikew/.jupysql/connections.ini'\n",
      "SqlMagic.feedback=<Int>\n",
      "    Verbosity level. 0=minimal, 1=normal, 2=all\n",
      "    Current: 1\n",
      "SqlMagic.lazy_execution=<Bool>\n",
      "    Whether to evaluate using ResultSet which will cause the plan to execute or\n",
      "    just return a lazily executed plan allowing validating schemas, without\n",
      "    expensive compute.Currently only supported for Spark Connection.\n",
      "    Current: False\n",
      "SqlMagic.named_parameters=<Parameters>\n",
      "    Allow named parameters in queries (i.e., 'SELECT * FROM foo WHERE bar =\n",
      "    :bar')\n",
      "    Current: 'warn'\n",
      "SqlMagic.polars_dataframe_kwargs=<key-1>=<value-1>...\n",
      "    Polars DataFrame constructor keyword arguments(e.g. infer_schema_length,\n",
      "    nan_to_null, schema_overrides, etc)\n",
      "    Current: {}\n",
      "SqlMagic.short_errors=<Bool>\n",
      "    Don't display the full traceback on SQL Programming Error\n",
      "    Current: True\n",
      "SqlMagic.style=<Unicode>\n",
      "    Set the table printing style to any of prettytable's defined styles\n",
      "    (currently DEFAULT, MSWORD_FRIENDLY, PLAIN_COLUMNS, RANDOM, SINGLE_BORDER,\n",
      "    DOUBLE_BORDER, MARKDOWN )\n",
      "    Current: 'DEFAULT'\n"
     ]
    }
   ],
   "source": [
    "%config SqlMagic"
   ]
  },
  {
   "cell_type": "code",
   "execution_count": null,
   "metadata": {},
   "outputs": [],
   "source": []
  }
 ],
 "metadata": {
  "kernelspec": {
   "display_name": "venv",
   "language": "python",
   "name": "python3"
  },
  "language_info": {
   "codemirror_mode": {
    "name": "ipython",
    "version": 3
   },
   "file_extension": ".py",
   "mimetype": "text/x-python",
   "name": "python",
   "nbconvert_exporter": "python",
   "pygments_lexer": "ipython3",
   "version": "3.12.7"
  }
 },
 "nbformat": 4,
 "nbformat_minor": 2
}
