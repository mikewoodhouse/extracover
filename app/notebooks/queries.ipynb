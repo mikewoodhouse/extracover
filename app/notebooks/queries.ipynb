{
 "cells": [
  {
   "cell_type": "code",
   "execution_count": 1,
   "metadata": {},
   "outputs": [
    {
     "data": {
      "text/html": [
       "<span style=\"None\">Tip: You may define configurations in /home/mikew/extracover/pyproject.toml or /home/mikew/.jupysql/config. </span>"
      ],
      "text/plain": [
       "Tip: You may define configurations in /home/mikew/extracover/pyproject.toml or /home/mikew/.jupysql/config. "
      ]
     },
     "metadata": {},
     "output_type": "display_data"
    },
    {
     "data": {
      "text/html": [
       "Please review our <a href='https://jupysql.ploomber.io/en/latest/api/configuration.html#loading-from-a-file'>configuration guideline</a>."
      ],
      "text/plain": [
       "<IPython.core.display.HTML object>"
      ]
     },
     "metadata": {},
     "output_type": "display_data"
    },
    {
     "data": {
      "text/html": [
       "<span style=\"None\">Did not find user configurations in /home/mikew/extracover/pyproject.toml.</span>"
      ],
      "text/plain": [
       "Did not find user configurations in /home/mikew/extracover/pyproject.toml."
      ]
     },
     "metadata": {},
     "output_type": "display_data"
    },
    {
     "data": {
      "text/html": [
       "<span style=\"None\">Connecting to &#x27;sqlite://///home/mikew/extracover/male_t20.db&#x27;</span>"
      ],
      "text/plain": [
       "Connecting to 'sqlite://///home/mikew/extracover/male_t20.db'"
      ]
     },
     "metadata": {},
     "output_type": "display_data"
    }
   ],
   "source": [
    "%load_ext sql\n",
    "%sql sqlite://///home/mikew/extracover/male_t20.db"
   ]
  },
  {
   "cell_type": "code",
   "execution_count": 2,
   "metadata": {},
   "outputs": [],
   "source": [
    "%config SqlMagic.displaylimit=20"
   ]
  },
  {
   "cell_type": "markdown",
   "metadata": {},
   "source": [
    "## Run distribution by phase of innings"
   ]
  },
  {
   "cell_type": "code",
   "execution_count": 3,
   "metadata": {},
   "outputs": [
    {
     "data": {
      "text/html": [
       "<span style=\"None\">Running query in &#x27;sqlite://///home/mikew/extracover/male_t20.db&#x27;</span>"
      ],
      "text/plain": [
       "Running query in 'sqlite://///home/mikew/extracover/male_t20.db'"
      ]
     },
     "metadata": {},
     "output_type": "display_data"
    },
    {
     "data": {
      "text/html": [
       "<div>\n",
       "<style scoped>\n",
       "    .dataframe tbody tr th:only-of-type {\n",
       "        vertical-align: middle;\n",
       "    }\n",
       "\n",
       "    .dataframe tbody tr th {\n",
       "        vertical-align: top;\n",
       "    }\n",
       "\n",
       "    .dataframe thead th {\n",
       "        text-align: right;\n",
       "    }\n",
       "</style>\n",
       "<table border=\"1\" class=\"dataframe\">\n",
       "  <thead>\n",
       "    <tr style=\"text-align: right;\">\n",
       "      <th>phase</th>\n",
       "      <th>0 powerplay</th>\n",
       "      <th>1 mid-innings</th>\n",
       "      <th>2 last two</th>\n",
       "    </tr>\n",
       "    <tr>\n",
       "      <th>batter_runs</th>\n",
       "      <th></th>\n",
       "      <th></th>\n",
       "      <th></th>\n",
       "    </tr>\n",
       "  </thead>\n",
       "  <tbody>\n",
       "    <tr>\n",
       "      <th>0</th>\n",
       "      <td>255696</td>\n",
       "      <td>331451</td>\n",
       "      <td>37221</td>\n",
       "    </tr>\n",
       "    <tr>\n",
       "      <th>1</th>\n",
       "      <td>150345</td>\n",
       "      <td>460746</td>\n",
       "      <td>45550</td>\n",
       "    </tr>\n",
       "    <tr>\n",
       "      <th>2</th>\n",
       "      <td>26295</td>\n",
       "      <td>77402</td>\n",
       "      <td>15030</td>\n",
       "    </tr>\n",
       "    <tr>\n",
       "      <th>3</th>\n",
       "      <td>3209</td>\n",
       "      <td>3431</td>\n",
       "      <td>575</td>\n",
       "    </tr>\n",
       "    <tr>\n",
       "      <th>4</th>\n",
       "      <td>80103</td>\n",
       "      <td>89359</td>\n",
       "      <td>15193</td>\n",
       "    </tr>\n",
       "    <tr>\n",
       "      <th>6</th>\n",
       "      <td>19391</td>\n",
       "      <td>48887</td>\n",
       "      <td>11072</td>\n",
       "    </tr>\n",
       "  </tbody>\n",
       "</table>\n",
       "</div>"
      ],
      "text/plain": [
       "phase        0 powerplay  1 mid-innings  2 last two\n",
       "batter_runs                                        \n",
       "0                 255696         331451       37221\n",
       "1                 150345         460746       45550\n",
       "2                  26295          77402       15030\n",
       "3                   3209           3431         575\n",
       "4                  80103          89359       15193\n",
       "6                  19391          48887       11072"
      ]
     },
     "execution_count": 3,
     "metadata": {},
     "output_type": "execute_result"
    }
   ],
   "source": [
    "qry = \"\"\"\n",
    "WITH phased AS (\n",
    "    SELECT\n",
    "        *\n",
    "    ,   CASE\n",
    "        WHEN over BETWEEN 0 AND 5 THEN '0 powerplay'\n",
    "        WHEN over BETWEEN 6 AND 17 THEN '1 mid-innings'\n",
    "        ELSE '2 last two'\n",
    "        END as phase\n",
    "    FROM balls\n",
    ")\n",
    "SELECT phase, batter_runs, COUNT(*) AS count\n",
    "FROM phased\n",
    "WHERE innings < 2\n",
    "AND extra_type = ''\n",
    "AND batter_runs in (0,1,2,3,4,6)\n",
    "GROUP BY phase, batter_runs\n",
    "\"\"\"\n",
    "result = %sql {{qry}}\n",
    "df=result.DataFrame()\n",
    "df.pivot(columns=\"phase\", index=\"batter_runs\", values=\"count\")"
   ]
  },
  {
   "cell_type": "markdown",
   "metadata": {},
   "source": [
    "## Average runs by over"
   ]
  },
  {
   "cell_type": "code",
   "execution_count": 4,
   "metadata": {},
   "outputs": [
    {
     "data": {
      "text/html": [
       "<span style=\"None\">Running query in &#x27;sqlite://///home/mikew/extracover/male_t20.db&#x27;</span>"
      ],
      "text/plain": [
       "Running query in 'sqlite://///home/mikew/extracover/male_t20.db'"
      ]
     },
     "metadata": {},
     "output_type": "display_data"
    },
    {
     "data": {
      "text/plain": [
       "<Axes: xlabel='over'>"
      ]
     },
     "execution_count": 4,
     "metadata": {},
     "output_type": "execute_result"
    },
    {
     "data": {
      "image/png": "[encoded data removed]",
      "text/plain": [
       "<Figure size 640x480 with 1 Axes>"
      ]
     },
     "metadata": {},
     "output_type": "display_data"
    }
   ],
   "source": [
    "sql= \"\"\"\n",
    "WITH over_runs AS (\n",
    "SELECT\n",
    "\tover\n",
    ",\tCAST(SUM(batter_runs) + SUM(extra_runs) AS FLOAT) AS runs\n",
    "FROM balls\n",
    "WHERE innings = 0\n",
    "GROUP BY match_id, over\n",
    "HAVING MAX(ball) = 5\n",
    ")\n",
    "SELECT\n",
    "\tover\n",
    ",\tSUM(runs) / COUNT(*) AS avg_runs\n",
    "FROM over_runs\n",
    "GROUP BY over\n",
    "ORDER BY over\n",
    "\"\"\"\n",
    "\n",
    "result=%sql {{sql}}\n",
    "df=result.DataFrame()\n",
    "df.plot(x=\"over\", y=\"avg_runs\", kind=\"bar\")"
   ]
  },
  {
   "cell_type": "markdown",
   "metadata": {},
   "source": [
    "## Batsman \"Aggression\"\n",
    "\n",
    "First, what's the average *batter only* runs per ball in each over?"
   ]
  },
  {
   "cell_type": "code",
   "execution_count": 5,
   "metadata": {},
   "outputs": [
    {
     "data": {
      "text/html": [
       "<span style=\"None\">Running query in &#x27;sqlite://///home/mikew/extracover/male_t20.db&#x27;</span>"
      ],
      "text/plain": [
       "Running query in 'sqlite://///home/mikew/extracover/male_t20.db'"
      ]
     },
     "metadata": {},
     "output_type": "display_data"
    },
    {
     "data": {
      "text/plain": [
       "<Axes: xlabel='over'>"
      ]
     },
     "execution_count": 5,
     "metadata": {},
     "output_type": "execute_result"
    },
    {
     "data": {
      "image/png": "[encoded data removed]",
      "text/plain": [
       "<Figure size 640x480 with 1 Axes>"
      ]
     },
     "metadata": {},
     "output_type": "display_data"
    }
   ],
   "source": [
    "sql= \"\"\"\n",
    "WITH over_runs AS (\n",
    "SELECT\n",
    "\tover\n",
    ",\tCAST(SUM(batter_runs) AS FLOAT) AS runs\n",
    "FROM balls\n",
    "WHERE innings = 0\n",
    "GROUP BY match_id, over\n",
    "HAVING MAX(ball) = 5\n",
    ")\n",
    "SELECT\n",
    "\tover\n",
    ",\tSUM(runs) / COUNT(*) / 6 AS avg_runs\n",
    "FROM over_runs\n",
    "GROUP BY over\n",
    "ORDER BY over\n",
    "\"\"\"\n",
    "\n",
    "result=%sql {{sql}}\n",
    "df=result.DataFrame()\n",
    "df.plot(x=\"over\", y=\"avg_runs\", kind=\"bar\")"
   ]
  },
  {
   "cell_type": "markdown",
   "metadata": {},
   "source": [
    "Now, take a batsman - #137 CH Gayle has the most ball faced (and is, or was, notoriously aggressive)"
   ]
  },
  {
   "cell_type": "code",
   "execution_count": 6,
   "metadata": {},
   "outputs": [
    {
     "data": {
      "text/html": [
       "<span style=\"None\">Running query in &#x27;sqlite://///home/mikew/extracover/male_t20.db&#x27;</span>"
      ],
      "text/plain": [
       "Running query in 'sqlite://///home/mikew/extracover/male_t20.db'"
      ]
     },
     "metadata": {},
     "output_type": "display_data"
    },
    {
     "data": {
      "text/plain": [
       "5.6295558088859385"
      ]
     },
     "execution_count": 6,
     "metadata": {},
     "output_type": "execute_result"
    },
    {
     "data": {
      "image/png": "[encoded data removed]",
      "text/plain": [
       "<Figure size 640x480 with 1 Axes>"
      ]
     },
     "metadata": {},
     "output_type": "display_data"
    }
   ],
   "source": [
    "sql = \"\"\"SELECT\n",
    "\tover\n",
    ",\tCOUNT(*)\n",
    ",\tSUM(CAST(batter_runs AS FLOAT)) / COUNT(*) AS avg_runs\n",
    "FROM balls\n",
    "WHERE batter = 137\n",
    "GROUP BY over\n",
    "ORDER BY over\"\"\"\n",
    "\n",
    "result=%sql {{sql}}\n",
    "df_gayle=result.DataFrame()\n",
    "gayle = df_gayle[\"avg_runs\"] - df[\"avg_runs\"]\n",
    "gayle.plot(kind=\"bar\")\n",
    "gayle.sum()"
   ]
  },
  {
   "cell_type": "markdown",
   "metadata": {},
   "source": [
    "...or Virat Kohli (coincidentally #138 at time of computing)"
   ]
  },
  {
   "cell_type": "code",
   "execution_count": 7,
   "metadata": {},
   "outputs": [
    {
     "data": {
      "text/html": [
       "<span style=\"None\">Running query in &#x27;sqlite://///home/mikew/extracover/male_t20.db&#x27;</span>"
      ],
      "text/plain": [
       "Running query in 'sqlite://///home/mikew/extracover/male_t20.db'"
      ]
     },
     "metadata": {},
     "output_type": "display_data"
    },
    {
     "data": {
      "text/plain": [
       "2.1634117665852144"
      ]
     },
     "execution_count": 7,
     "metadata": {},
     "output_type": "execute_result"
    },
    {
     "data": {
      "image/png": "[encoded data removed]",
      "text/plain": [
       "<Figure size 640x480 with 1 Axes>"
      ]
     },
     "metadata": {},
     "output_type": "display_data"
    }
   ],
   "source": [
    "sql = \"\"\"\n",
    "SELECT\n",
    "\tover\n",
    ",\tCOUNT(*)\n",
    ",\tSUM(CAST(batter_runs AS FLOAT)) / COUNT(*) AS avg_runs\n",
    "FROM balls\n",
    "WHERE batter = 138\n",
    "GROUP BY over\n",
    "ORDER BY over\"\"\"\n",
    "\n",
    "result=%sql {{sql}}\n",
    "df_kohli=result.DataFrame()\n",
    "kohli = df_kohli[\"avg_runs\"] - df[\"avg_runs\"]\n",
    "kohli.plot(kind=\"bar\")\n",
    "kohli.sum()"
   ]
  },
  {
   "cell_type": "markdown",
   "metadata": {},
   "source": [
    "Can we (usefully) fit some kind of curve (straight line) to that?\n",
    "\n",
    "Or perhaps just smooth the by-over values somehow, perhaps by some weighted average of adjacent (one? more?) values?\n",
    "\n",
    "Or even just apply the average of the differences to the averall runs-per-ball curve, bumping the probabilities for each score as necessary?\n",
    "\n",
    "Also, how much do those figures vary over time, or match-by-match, I wonder? Are there discernible trends?"
   ]
  },
  {
   "cell_type": "markdown",
   "metadata": {},
   "source": [
    "## Average First Innings Totals by City/Venue"
   ]
  },
  {
   "cell_type": "code",
   "execution_count": 8,
   "metadata": {},
   "outputs": [
    {
     "data": {
      "text/html": [
       "<span style=\"None\">Running query in &#x27;sqlite://///home/mikew/extracover/male_t20.db&#x27;</span>"
      ],
      "text/plain": [
       "Running query in 'sqlite://///home/mikew/extracover/male_t20.db'"
      ]
     },
     "metadata": {},
     "output_type": "display_data"
    },
    {
     "data": {
      "text/html": [
       "<table>\n",
       "    <thead>\n",
       "        <tr>\n",
       "            <th>city</th>\n",
       "            <th>venue</th>\n",
       "            <th>count(*)</th>\n",
       "            <th>avg(inns_tot)</th>\n",
       "            <th>min(inns_tot)</th>\n",
       "            <th>max(inns_tot)</th>\n",
       "        </tr>\n",
       "    </thead>\n",
       "    <tbody>\n",
       "        <tr>\n",
       "            <td>Dhaka</td>\n",
       "            <td>Shere Bangla National Stadium, Mirpur</td>\n",
       "            <td>243</td>\n",
       "            <td>154.7530864197531</td>\n",
       "            <td>82</td>\n",
       "            <td>218</td>\n",
       "        </tr>\n",
       "        <tr>\n",
       "            <td>Dubai</td>\n",
       "            <td>Dubai International Cricket Stadium</td>\n",
       "            <td>114</td>\n",
       "            <td>157.99122807017545</td>\n",
       "            <td>80</td>\n",
       "            <td>212</td>\n",
       "        </tr>\n",
       "        <tr>\n",
       "            <td></td>\n",
       "            <td>Dubai International Cricket Stadium</td>\n",
       "            <td>103</td>\n",
       "            <td>152.74757281553397</td>\n",
       "            <td>71</td>\n",
       "            <td>219</td>\n",
       "        </tr>\n",
       "        <tr>\n",
       "            <td>Sharjah</td>\n",
       "            <td>Sharjah Cricket Stadium</td>\n",
       "            <td>85</td>\n",
       "            <td>159.5529411764706</td>\n",
       "            <td>90</td>\n",
       "            <td>244</td>\n",
       "        </tr>\n",
       "        <tr>\n",
       "            <td>Kolkata</td>\n",
       "            <td>Eden Gardens</td>\n",
       "            <td>76</td>\n",
       "            <td>163.9078947368421</td>\n",
       "            <td>109</td>\n",
       "            <td>232</td>\n",
       "        </tr>\n",
       "        <tr>\n",
       "            <td>Mumbai</td>\n",
       "            <td>Wankhede Stadium</td>\n",
       "            <td>76</td>\n",
       "            <td>172.1184210526316</td>\n",
       "            <td>92</td>\n",
       "            <td>240</td>\n",
       "        </tr>\n",
       "        <tr>\n",
       "            <td>Abu Dhabi</td>\n",
       "            <td>Sheikh Zayed Stadium</td>\n",
       "            <td>73</td>\n",
       "            <td>151.1917808219178</td>\n",
       "            <td>66</td>\n",
       "            <td>225</td>\n",
       "        </tr>\n",
       "        <tr>\n",
       "            <td>Al Amarat</td>\n",
       "            <td>Al Amerat Cricket Ground Oman Cricket (Ministry Turf 1)</td>\n",
       "            <td>67</td>\n",
       "            <td>154.67164179104478</td>\n",
       "            <td>86</td>\n",
       "            <td>220</td>\n",
       "        </tr>\n",
       "        <tr>\n",
       "            <td>Bangalore</td>\n",
       "            <td>M Chinnaswamy Stadium</td>\n",
       "            <td>63</td>\n",
       "            <td>171.74603174603175</td>\n",
       "            <td>92</td>\n",
       "            <td>263</td>\n",
       "        </tr>\n",
       "        <tr>\n",
       "            <td>Birmingham</td>\n",
       "            <td>Edgbaston</td>\n",
       "            <td>61</td>\n",
       "            <td>169.45901639344262</td>\n",
       "            <td>115</td>\n",
       "            <td>242</td>\n",
       "        </tr>\n",
       "        <tr>\n",
       "            <td>Delhi</td>\n",
       "            <td>Feroz Shah Kotla</td>\n",
       "            <td>60</td>\n",
       "            <td>165.33333333333334</td>\n",
       "            <td>110</td>\n",
       "            <td>231</td>\n",
       "        </tr>\n",
       "        <tr>\n",
       "            <td>London</td>\n",
       "            <td>Kennington Oval</td>\n",
       "            <td>59</td>\n",
       "            <td>168.76271186440678</td>\n",
       "            <td>105</td>\n",
       "            <td>240</td>\n",
       "        </tr>\n",
       "        <tr>\n",
       "            <td>Port Elizabeth</td>\n",
       "            <td>St George's Park, Port Elizabeth</td>\n",
       "            <td>58</td>\n",
       "            <td>149.24137931034483</td>\n",
       "            <td>82</td>\n",
       "            <td>211</td>\n",
       "        </tr>\n",
       "        <tr>\n",
       "            <td>Nottingham</td>\n",
       "            <td>Trent Bridge</td>\n",
       "            <td>57</td>\n",
       "            <td>168.66666666666666</td>\n",
       "            <td>111</td>\n",
       "            <td>227</td>\n",
       "        </tr>\n",
       "        <tr>\n",
       "            <td>Chattogram</td>\n",
       "            <td>Zahur Ahmed Chowdhury Stadium, Chattogram</td>\n",
       "            <td>55</td>\n",
       "            <td>174.72727272727272</td>\n",
       "            <td>116</td>\n",
       "            <td>239</td>\n",
       "        </tr>\n",
       "        <tr>\n",
       "            <td>Durban</td>\n",
       "            <td>Kingsmead, Durban</td>\n",
       "            <td>54</td>\n",
       "            <td>160.35185185185185</td>\n",
       "            <td>100</td>\n",
       "            <td>226</td>\n",
       "        </tr>\n",
       "        <tr>\n",
       "            <td>Adelaide</td>\n",
       "            <td>Adelaide Oval</td>\n",
       "            <td>53</td>\n",
       "            <td>172.9245283018868</td>\n",
       "            <td>117</td>\n",
       "            <td>241</td>\n",
       "        </tr>\n",
       "        <tr>\n",
       "            <td>Chennai</td>\n",
       "            <td>MA Chidambaram Stadium, Chepauk</td>\n",
       "            <td>50</td>\n",
       "            <td>166.34</td>\n",
       "            <td>112</td>\n",
       "            <td>246</td>\n",
       "        </tr>\n",
       "        <tr>\n",
       "            <td>Sylhet</td>\n",
       "            <td>Sylhet International Cricket Stadium</td>\n",
       "            <td>50</td>\n",
       "            <td>163.26</td>\n",
       "            <td>92</td>\n",
       "            <td>214</td>\n",
       "        </tr>\n",
       "        <tr>\n",
       "            <td>Southampton</td>\n",
       "            <td>The Rose Bowl</td>\n",
       "            <td>49</td>\n",
       "            <td>162.20408163265307</td>\n",
       "            <td>118</td>\n",
       "            <td>248</td>\n",
       "        </tr>\n",
       "    </tbody>\n",
       "</table>\n",
       "<span style=\"font-style:italic;text-align:center;\">Truncated to <a href=\"https://jupysql.ploomber.io/en/latest/api/configuration.html#displaylimit\">displaylimit</a> of 20.</span>"
      ],
      "text/plain": [
       "+----------------+---------------------------------------------------------+----------+--------------------+---------------+---------------+\n",
       "|      city      |                          venue                          | count(*) |   avg(inns_tot)    | min(inns_tot) | max(inns_tot) |\n",
       "+----------------+---------------------------------------------------------+----------+--------------------+---------------+---------------+\n",
       "|     Dhaka      |          Shere Bangla National Stadium, Mirpur          |   243    | 154.7530864197531  |       82      |      218      |\n",
       "|     Dubai      |           Dubai International Cricket Stadium           |   114    | 157.99122807017545 |       80      |      212      |\n",
       "|                |           Dubai International Cricket Stadium           |   103    | 152.74757281553397 |       71      |      219      |\n",
       "|    Sharjah     |                 Sharjah Cricket Stadium                 |    85    | 159.5529411764706  |       90      |      244      |\n",
       "|    Kolkata     |                       Eden Gardens                      |    76    | 163.9078947368421  |      109      |      232      |\n",
       "|     Mumbai     |                     Wankhede Stadium                    |    76    | 172.1184210526316  |       92      |      240      |\n",
       "|   Abu Dhabi    |                   Sheikh Zayed Stadium                  |    73    | 151.1917808219178  |       66      |      225      |\n",
       "|   Al Amarat    | Al Amerat Cricket Ground Oman Cricket (Ministry Turf 1) |    67    | 154.67164179104478 |       86      |      220      |\n",
       "|   Bangalore    |                  M Chinnaswamy Stadium                  |    63    | 171.74603174603175 |       92      |      263      |\n",
       "|   Birmingham   |                        Edgbaston                        |    61    | 169.45901639344262 |      115      |      242      |\n",
       "|     Delhi      |                     Feroz Shah Kotla                    |    60    | 165.33333333333334 |      110      |      231      |\n",
       "|     London     |                     Kennington Oval                     |    59    | 168.76271186440678 |      105      |      240      |\n",
       "| Port Elizabeth |             St George's Park, Port Elizabeth            |    58    | 149.24137931034483 |       82      |      211      |\n",
       "|   Nottingham   |                       Trent Bridge                      |    57    | 168.66666666666666 |      111      |      227      |\n",
       "|   Chattogram   |        Zahur Ahmed Chowdhury Stadium, Chattogram        |    55    | 174.72727272727272 |      116      |      239      |\n",
       "|     Durban     |                    Kingsmead, Durban                    |    54    | 160.35185185185185 |      100      |      226      |\n",
       "|    Adelaide    |                      Adelaide Oval                      |    53    | 172.9245283018868  |      117      |      241      |\n",
       "|    Chennai     |             MA Chidambaram Stadium, Chepauk             |    50    |       166.34       |      112      |      246      |\n",
       "|     Sylhet     |           Sylhet International Cricket Stadium          |    50    |       163.26       |       92      |      214      |\n",
       "|  Southampton   |                      The Rose Bowl                      |    49    | 162.20408163265307 |      118      |      248      |\n",
       "+----------------+---------------------------------------------------------+----------+--------------------+---------------+---------------+\n",
       "Truncated to displaylimit of 20."
      ]
     },
     "execution_count": 8,
     "metadata": {},
     "output_type": "execute_result"
    }
   ],
   "source": [
    "sql = \"\"\"\n",
    "with first_inns_tots as (\n",
    "\tselect b.match_id, m.city, m.venue, sum(b.batter_runs + b.extra_runs) as inns_tot\n",
    "\tfrom balls b join matches m on m.rowid = b.match_id\n",
    "\twhere b.innings = 0\n",
    "\tand match_id in (\n",
    "\t\tselect match_id from balls where innings = 0 group by match_id having count(*) >= 120\n",
    "\t)\n",
    "\tgroup by match_id\n",
    ")\n",
    "select city, venue, count(*), avg(inns_tot), min(inns_tot), max(inns_tot)\n",
    "from first_inns_tots group by city, venue having count(*) >= 20 order by count(*) desc\n",
    "\"\"\"\n",
    "%sql {{sql}}"
   ]
  },
  {
   "cell_type": "markdown",
   "metadata": {},
   "source": [
    "## Scoring shot frequencies by batsman & over\n",
    "\n",
    "for players having faced  \tenough deliveries to get usual distributions (first attempt: 1000 balls faced)"
   ]
  },
  {
   "cell_type": "code",
   "execution_count": null,
   "metadata": {},
   "outputs": [
    {
     "data": {
      "text/html": [
       "<span style=\"None\">Running query in &#x27;sqlite://///home/mikew/extracover/male_t20.db&#x27;</span>"
      ],
      "text/plain": [
       "Running query in 'sqlite://///home/mikew/extracover/male_t20.db'"
      ]
     },
     "metadata": {},
     "output_type": "display_data"
    }
   ],
   "source": [
    "# NOTE: this looks like it would benefit from being transformed into a view, but I tried it and it was horribly slower: 26s vs 0.3s\n",
    "\n",
    "sql = \"\"\"\n",
    "SELECT\n",
    "\tover\n",
    ",\t(SUM(CASE WHEN batter_runs = 0 THEN 1 END) + 0.0) / SUM(Count(*)) OVER (PARTITION BY batter, over) AS \"0\"\n",
    ",\t(SUM(CASE WHEN batter_runs = 1 THEN 1 END) + 0.0) / SUM(Count(*)) OVER (PARTITION BY batter, over) AS \"1\"\n",
    ",\t(SUM(CASE WHEN batter_runs = 2 THEN 1 END) + 0.0) / SUM(Count(*)) OVER (PARTITION BY batter, over) AS \"2\"\n",
    ",\t(SUM(CASE WHEN batter_runs = 3 THEN 1 END) + 0.0) / SUM(Count(*)) OVER (PARTITION BY batter, over) AS \"3\"\n",
    ",\t(SUM(CASE WHEN batter_runs = 4 THEN 1 END) + 0.0) / SUM(Count(*)) OVER (PARTITION BY batter, over) AS \"4\"\n",
    ",\t(SUM(CASE WHEN batter_runs = 5 THEN 1 END) + 0.0) / SUM(Count(*)) OVER (PARTITION BY batter, over) AS \"5\"\n",
    ",\t(SUM(CASE WHEN batter_runs = 6 THEN 1 END) + 0.0) / SUM(Count(*)) OVER (PARTITION BY batter, over) AS \"6\"\n",
    "FROM\n",
    "\tballs\n",
    "WHERE innings < 2\n",
    "AND extra_type = ''\n",
    "AND batter = 137\n",
    "GROUP BY over\n",
    "ORDER BY over\n",
    "\"\"\"\n",
    "\n",
    "result = %sql {{sql}}\n",
    "df = result.DataFrame()"
   ]
  },
  {
   "cell_type": "code",
   "execution_count": null,
   "metadata": {},
   "outputs": [
    {
     "data": {
      "text/plain": [
       "<Axes: xlabel='over'>"
      ]
     },
     "execution_count": 16,
     "metadata": {},
     "output_type": "execute_result"
    },
    {
     "data": {
      "image/png": "[encoded data removed]",
      "text/plain": [
       "<Figure size 1500x500 with 1 Axes>"
      ]
     },
     "metadata": {},
     "output_type": "display_data"
    }
   ],
   "source": [
    "df.plot(x=\"over\", y=[\"0\", \"1\", \"2\", \"4\", \"6\"],kind=\"bar\", figsize=(15,5))"
   ]
  },
  {
   "cell_type": "code",
   "execution_count": null,
   "metadata": {},
   "outputs": [],
   "source": []
  }
 ],
 "metadata": {
  "kernelspec": {
   "display_name": "venv",
   "language": "python",
   "name": "python3"
  },
  "language_info": {
   "codemirror_mode": {
    "name": "ipython",
    "version": 3
   },
   "file_extension": ".py",
   "mimetype": "text/x-python",
   "name": "python",
   "nbconvert_exporter": "python",
   "pygments_lexer": "ipython3",
   "version": "3.12.7"
  }
 },
 "nbformat": 4,
 "nbformat_minor": 2
}
