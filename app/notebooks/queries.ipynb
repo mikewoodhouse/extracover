{
 "cells": [
  {
   "cell_type": "code",
   "execution_count": null,
   "metadata": {},
   "outputs": [],
   "source": [
    "from pathlib import Path\n",
    "from os import environ\n",
    "db_path = Path.cwd().parent.parent / \"male_t20.db\"\n",
    "environ[\"DATABASE_URL\"] = f\"sqlite:///{db_path}\""
   ]
  },
  {
   "cell_type": "code",
   "execution_count": null,
   "metadata": {},
   "outputs": [],
   "source": [
    "%load_ext sql\n",
    "#%sql sqlite://///home/mike/extracover/male_t20.db\n",
    "%sql"
   ]
  },
  {
   "cell_type": "code",
   "execution_count": null,
   "metadata": {},
   "outputs": [],
   "source": [
    "%config SqlMagic.displaylimit=20"
   ]
  },
  {
   "cell_type": "markdown",
   "metadata": {},
   "source": [
    "## Run distribution by phase of innings"
   ]
  },
  {
   "cell_type": "code",
   "execution_count": null,
   "metadata": {},
   "outputs": [],
   "source": [
    "qry = \"\"\"\n",
    "WITH phased AS (\n",
    "    SELECT\n",
    "        *\n",
    "    ,   CASE\n",
    "        WHEN over BETWEEN 0 AND 5 THEN '0 powerplay'\n",
    "        WHEN over BETWEEN 6 AND 17 THEN '1 mid-innings'\n",
    "        ELSE '2 last two'\n",
    "        END as phase\n",
    "    FROM balls\n",
    ")\n",
    "SELECT phase, batter_runs, COUNT(*) AS count\n",
    "FROM phased\n",
    "WHERE innings < 2\n",
    "AND extra_type = ''\n",
    "AND batter_runs in (0,1,2,3,4,6)\n",
    "GROUP BY phase, batter_runs\n",
    "\"\"\"\n",
    "result = %sql {{qry}}\n",
    "df=result.DataFrame()\n",
    "df.pivot(columns=\"phase\", index=\"batter_runs\", values=\"count\")"
   ]
  },
  {
   "cell_type": "markdown",
   "metadata": {},
   "source": [
    "## Average runs by over, first innings"
   ]
  },
  {
   "cell_type": "code",
   "execution_count": null,
   "metadata": {},
   "outputs": [],
   "source": [
    "sql= \"\"\"\n",
    "WITH over_runs AS (\n",
    "SELECT\n",
    "\tover\n",
    ",\tCAST(SUM(batter_runs) + SUM(extra_runs) AS FLOAT) AS runs\n",
    "FROM balls\n",
    "WHERE innings = 0\n",
    "GROUP BY match_id, over\n",
    "HAVING MAX(ball) = 5\n",
    ")\n",
    "SELECT\n",
    "\tover\n",
    ",\tSUM(runs) / COUNT(*) AS avg_runs\n",
    "FROM over_runs\n",
    "GROUP BY over\n",
    "ORDER BY over\n",
    "\"\"\"\n",
    "\n",
    "result=%sql {{sql}}\n",
    "df=result.DataFrame()\n",
    "df.plot(x=\"over\", y=\"avg_runs\", kind=\"bar\")"
   ]
  },
  {
   "cell_type": "markdown",
   "metadata": {},
   "source": [
    "## Batsman \"Aggression\"\n",
    "\n",
    "First, what's the average *batter only* runs per ball in each over?"
   ]
  },
  {
   "cell_type": "code",
   "execution_count": null,
   "metadata": {},
   "outputs": [],
   "source": [
    "sql= \"\"\"\n",
    "WITH over_runs AS (\n",
    "SELECT\n",
    "\tover\n",
    ",\tCAST(SUM(batter_runs) AS FLOAT) AS runs\n",
    "FROM balls\n",
    "WHERE innings = 0\n",
    "AND extra_type = ''\n",
    "GROUP BY match_id, over\n",
    "HAVING MAX(ball) = 5\n",
    ")\n",
    "SELECT\n",
    "\tover\n",
    ",\tSUM(runs) / COUNT(*) / 6 AS avg_runs\n",
    "FROM over_runs\n",
    "GROUP BY over\n",
    "ORDER BY over\n",
    "\"\"\"\n",
    "\n",
    "result=%sql {{sql}}\n",
    "df=result.DataFrame()\n",
    "df.plot(x=\"over\", y=\"avg_runs\", kind=\"bar\", figsize=(7,2))"
   ]
  },
  {
   "cell_type": "markdown",
   "metadata": {},
   "source": [
    "Now, take a batsman - #137 CH Gayle has the most ball faced (and is, or was, notoriously aggressive)"
   ]
  },
  {
   "cell_type": "code",
   "execution_count": null,
   "metadata": {},
   "outputs": [],
   "source": [
    "sql = \"\"\"SELECT\n",
    "\tover\n",
    ",\tCOUNT(*)\n",
    ",\tSUM(CAST(batter_runs AS FLOAT)) / COUNT(*) AS avg_runs\n",
    "FROM balls\n",
    "WHERE batter = 137\n",
    "AND innings < 2\n",
    "AND extra_type = ''\n",
    "GROUP BY over\n",
    "ORDER BY over\"\"\"\n",
    "\n",
    "result=%sql {{sql}}\n",
    "df_gayle=result.DataFrame()\n",
    "gayle = df_gayle[\"avg_runs\"] - df[\"avg_runs\"]\n",
    "gayle.plot(kind=\"bar\", x=\"over\", y=\"avg_runs\", figsize=(7,2))\n",
    "gayle.sum()"
   ]
  },
  {
   "cell_type": "markdown",
   "metadata": {},
   "source": [
    "...or Virat Kohli (coincidentally #138 at time of computing)"
   ]
  },
  {
   "cell_type": "code",
   "execution_count": null,
   "metadata": {},
   "outputs": [],
   "source": [
    "sql = \"\"\"\n",
    "SELECT\n",
    "\tover\n",
    ",\tCOUNT(*)\n",
    ",\tSUM(CAST(batter_runs AS FLOAT)) / COUNT(*) AS avg_runs\n",
    "FROM balls\n",
    "WHERE batter = 138\n",
    "GROUP BY over\n",
    "ORDER BY over\"\"\"\n",
    "\n",
    "result=%sql {{sql}}\n",
    "df_kohli=result.DataFrame()\n",
    "kohli = df_kohli[\"avg_runs\"] - df[\"avg_runs\"]\n",
    "kohli.plot(kind=\"bar\", x=\"over\", y=\"avg_runs\", figsize=(7,2))"
   ]
  },
  {
   "cell_type": "markdown",
   "metadata": {},
   "source": [
    "Can we (usefully) fit some kind of curve (straight line) to that?\n",
    "\n",
    "Or perhaps just smooth the by-over values somehow, perhaps by some weighted average of adjacent (one? more?) values?\n",
    "\n",
    "Or even just apply the average of the differences to the averall runs-per-ball curve, bumping the probabilities for each score as necessary?\n",
    "\n",
    "Also, how much do those figures vary over time, or match-by-match, I wonder? Are there discernible trends?"
   ]
  },
  {
   "cell_type": "markdown",
   "metadata": {},
   "source": [
    "## Average First Innings Totals by City/Venue"
   ]
  },
  {
   "cell_type": "code",
   "execution_count": null,
   "metadata": {},
   "outputs": [],
   "source": [
    "sql = \"\"\"\n",
    "with first_inns_tots as (\n",
    "\tselect b.match_id, m.city, m.venue, sum(b.batter_runs + b.extra_runs) as inns_tot\n",
    "\tfrom balls b join matches m on m.rowid = b.match_id\n",
    "\twhere b.innings = 0\n",
    "\tand match_id in (\n",
    "\t\tselect match_id from balls where innings = 0 group by match_id having count(*) >= 120\n",
    "\t)\n",
    "\tgroup by match_id\n",
    ")\n",
    "select city, venue, count(*), avg(inns_tot), min(inns_tot), max(inns_tot)\n",
    "from first_inns_tots group by city, venue having count(*) >= 20 order by count(*) desc\n",
    "\"\"\"\n",
    "%sql {{sql}}"
   ]
  },
  {
   "cell_type": "markdown",
   "metadata": {},
   "source": [
    "## Scoring shot frequencies by batsman & over\n",
    "\n",
    "for players having faced  \tenough deliveries to get usual distributions (first attempt: 1000 balls faced)"
   ]
  },
  {
   "cell_type": "code",
   "execution_count": null,
   "metadata": {},
   "outputs": [],
   "source": [
    "# NOTE: this looks like it would benefit from being transformed into a view, but I tried it and it was horribly slower: 26s vs 0.3s\n",
    "\n",
    "sql = \"\"\"\n",
    "SELECT\n",
    "\tover\n",
    ",\tbatter\n",
    ",\t(SUM(CASE WHEN batter_runs = 0 THEN 1 END) + 0.0) / SUM(Count(*)) OVER (PARTITION BY batter, over) AS \"0\"\n",
    ",\t(SUM(CASE WHEN batter_runs = 1 THEN 1 END) + 0.0) / SUM(Count(*)) OVER (PARTITION BY batter, over) AS \"1\"\n",
    ",\t(SUM(CASE WHEN batter_runs = 2 THEN 1 END) + 0.0) / SUM(Count(*)) OVER (PARTITION BY batter, over) AS \"2\"\n",
    ",\t(SUM(CASE WHEN batter_runs = 3 THEN 1 END) + 0.0) / SUM(Count(*)) OVER (PARTITION BY batter, over) AS \"3\"\n",
    ",\t(SUM(CASE WHEN batter_runs = 4 THEN 1 END) + 0.0) / SUM(Count(*)) OVER (PARTITION BY batter, over) AS \"4\"\n",
    ",\t(SUM(CASE WHEN batter_runs = 5 THEN 1 END) + 0.0) / SUM(Count(*)) OVER (PARTITION BY batter, over) AS \"5\"\n",
    ",\t(SUM(CASE WHEN batter_runs = 6 THEN 1 END) + 0.0) / SUM(Count(*)) OVER (PARTITION BY batter, over) AS \"6\"\n",
    "FROM\n",
    "\tballs\n",
    "WHERE innings < 2\n",
    "AND extra_type = ''\n",
    "AND batter in (137, 138, 297)\n",
    "GROUP BY over, batter\n",
    "ORDER BY batter, over\n",
    "\"\"\"\n",
    "\n",
    "result = %sql {{sql}}\n",
    "df = result.DataFrame()"
   ]
  },
  {
   "cell_type": "code",
   "execution_count": null,
   "metadata": {},
   "outputs": [],
   "source": [
    "df[df[\"batter\"]==\"137\"].plot(x=\"over\", y=[\"0\", \"1\", \"2\", \"4\", \"6\"],kind=\"bar\", figsize=(7,2), stacked = True, legend=\"reverse\")"
   ]
  },
  {
   "cell_type": "code",
   "execution_count": null,
   "metadata": {},
   "outputs": [],
   "source": [
    "df[df[\"batter\"]==\"138\"].plot(x=\"over\", y=[\"0\", \"1\", \"2\", \"4\", \"6\"],kind=\"bar\", figsize=(7,2), stacked=True, legend=\"reverse\")"
   ]
  },
  {
   "cell_type": "code",
   "execution_count": null,
   "metadata": {},
   "outputs": [],
   "source": [
    "df[df[\"batter\"]==\"297\"].plot(x=\"over\", y=[\"0\", \"1\", \"2\", \"4\", \"6\"],kind=\"bar\", figsize=(7,2), stacked=True, legend=\"reverse\")"
   ]
  },
  {
   "cell_type": "markdown",
   "metadata": {},
   "source": [
    "## Batman behaviour in first 10 balls\n",
    "\n",
    "A sort of \"cautiousness quotient\" ?"
   ]
  },
  {
   "cell_type": "code",
   "execution_count": null,
   "metadata": {},
   "outputs": [],
   "source": [
    "sql = \"\"\"\n",
    "WITH seqs AS (\n",
    "\tSELECT\n",
    "\t\tROW_NUMBER() OVER (PARTITION BY batter, match_id, innings ORDER BY match_id, over, ball_seq) AS row_num\n",
    "\t,\tbatter\n",
    "\t,\tCAST(batter_runs AS FLOAT) AS batter_runs\n",
    "\t,\twicket_fell\n",
    "\tFROM balls\n",
    "    WHERE extra_type = ''\n",
    "    AND innings < 2\n",
    "\tAND batter IN (137, 138, 297)\n",
    ")\n",
    ", cte AS (\n",
    "\tSELECT\n",
    "\t\tbatter\n",
    "\t,\tbatter_runs\n",
    "\t,\tCASE WHEN row_num <= 10 THEN '0: first 10' ELSE '1: thereafter' END AS period\n",
    "\t,\twicket_fell\n",
    "\tFROM seqs\n",
    ")\n",
    "SELECT\n",
    "\tbatter\n",
    ",\tperiod\n",
    ",\tAVG(batter_runs) AS avg_runs\n",
    ",\tCAST(SUM(wicket_fell) AS FLOAT) / COUNT(*) AS wicket_prob\n",
    "FROM cte\n",
    "GROUP BY batter, period\n",
    "ORDER BY 1, 2\n",
    "\"\"\"\n",
    "\n",
    "%sql {{sql}}"
   ]
  },
  {
   "cell_type": "markdown",
   "metadata": {},
   "source": [
    "## Batsman aggression factors\n",
    "\n",
    "Determined thus:\n",
    "\n",
    "* Reference all non-extra balls not in super overs where striker was not out\n",
    "* derive the average runs per ball for all identified balls\n",
    "* same calculation per batsman; limit to batters with some minimum # of balls faced and a minimum # of balls faced in each over\n",
    "* calculate each batter's delta over the universal average for each qualified over\n",
    "* aggression is the average of the deltas for all qualifying overs"
   ]
  },
  {
   "cell_type": "markdown",
   "metadata": {},
   "source": [
    "## Bowler economy factor\n",
    "\n",
    "As above, mostly, but from the bowler's point-of-view"
   ]
  },
  {
   "cell_type": "code",
   "execution_count": null,
   "metadata": {},
   "outputs": [],
   "source": []
  }
 ],
 "metadata": {
  "kernelspec": {
   "display_name": "venv",
   "language": "python",
   "name": "python3"
  },
  "language_info": {
   "codemirror_mode": {
    "name": "ipython",
    "version": 3
   },
   "file_extension": ".py",
   "mimetype": "text/x-python",
   "name": "python",
   "nbconvert_exporter": "python",
   "pygments_lexer": "ipython3",
   "version": "3.12.7"
  }
 },
 "nbformat": 4,
 "nbformat_minor": 2
}
