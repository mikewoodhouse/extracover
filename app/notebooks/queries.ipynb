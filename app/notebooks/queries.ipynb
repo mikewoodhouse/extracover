{
 "cells": [
  {
   "cell_type": "code",
   "execution_count": 1,
   "metadata": {},
   "outputs": [
    {
     "data": {
      "text/html": [
       "<span style=\"None\">Tip: You may define configurations in /home/mikew/extracover/pyproject.toml or /home/mikew/.jupysql/config. </span>"
      ],
      "text/plain": [
       "Tip: You may define configurations in /home/mikew/extracover/pyproject.toml or /home/mikew/.jupysql/config. "
      ]
     },
     "metadata": {},
     "output_type": "display_data"
    },
    {
     "data": {
      "text/html": [
       "Please review our <a href='https://jupysql.ploomber.io/en/latest/api/configuration.html#loading-from-a-file'>configuration guideline</a>."
      ],
      "text/plain": [
       "<IPython.core.display.HTML object>"
      ]
     },
     "metadata": {},
     "output_type": "display_data"
    },
    {
     "data": {
      "text/html": [
       "<span style=\"None\">Did not find user configurations in /home/mikew/extracover/pyproject.toml.</span>"
      ],
      "text/plain": [
       "Did not find user configurations in /home/mikew/extracover/pyproject.toml."
      ]
     },
     "metadata": {},
     "output_type": "display_data"
    },
    {
     "data": {
      "text/html": [
       "<span style=\"None\">Connecting to &#x27;sqlite://///home/mikew/extracover/male_t20.db&#x27;</span>"
      ],
      "text/plain": [
       "Connecting to 'sqlite://///home/mikew/extracover/male_t20.db'"
      ]
     },
     "metadata": {},
     "output_type": "display_data"
    }
   ],
   "source": [
    "%load_ext sql\n",
    "%sql sqlite://///home/mikew/extracover/male_t20.db"
   ]
  },
  {
   "cell_type": "code",
   "execution_count": 11,
   "metadata": {},
   "outputs": [],
   "source": [
    "%config SqlMagic.displaylimit=20"
   ]
  },
  {
   "cell_type": "markdown",
   "metadata": {},
   "source": [
    "## Run distribution by phase of innings"
   ]
  },
  {
   "cell_type": "code",
   "execution_count": 22,
   "metadata": {},
   "outputs": [
    {
     "data": {
      "text/html": [
       "<span style=\"None\">Running query in &#x27;sqlite://///home/mikew/extracover/male_t20.db&#x27;</span>"
      ],
      "text/plain": [
       "Running query in 'sqlite://///home/mikew/extracover/male_t20.db'"
      ]
     },
     "metadata": {},
     "output_type": "display_data"
    },
    {
     "data": {
      "text/html": [
       "<div>\n",
       "<style scoped>\n",
       "    .dataframe tbody tr th:only-of-type {\n",
       "        vertical-align: middle;\n",
       "    }\n",
       "\n",
       "    .dataframe tbody tr th {\n",
       "        vertical-align: top;\n",
       "    }\n",
       "\n",
       "    .dataframe thead th {\n",
       "        text-align: right;\n",
       "    }\n",
       "</style>\n",
       "<table border=\"1\" class=\"dataframe\">\n",
       "  <thead>\n",
       "    <tr style=\"text-align: right;\">\n",
       "      <th>phase</th>\n",
       "      <th>0 powerplay</th>\n",
       "      <th>1 mid-innings</th>\n",
       "      <th>2 last two</th>\n",
       "    </tr>\n",
       "    <tr>\n",
       "      <th>batter_runs</th>\n",
       "      <th></th>\n",
       "      <th></th>\n",
       "      <th></th>\n",
       "    </tr>\n",
       "  </thead>\n",
       "  <tbody>\n",
       "    <tr>\n",
       "      <th>0</th>\n",
       "      <td>255696</td>\n",
       "      <td>331451</td>\n",
       "      <td>37221</td>\n",
       "    </tr>\n",
       "    <tr>\n",
       "      <th>1</th>\n",
       "      <td>150345</td>\n",
       "      <td>460746</td>\n",
       "      <td>45550</td>\n",
       "    </tr>\n",
       "    <tr>\n",
       "      <th>2</th>\n",
       "      <td>26295</td>\n",
       "      <td>77402</td>\n",
       "      <td>15030</td>\n",
       "    </tr>\n",
       "    <tr>\n",
       "      <th>3</th>\n",
       "      <td>3209</td>\n",
       "      <td>3431</td>\n",
       "      <td>575</td>\n",
       "    </tr>\n",
       "    <tr>\n",
       "      <th>4</th>\n",
       "      <td>80103</td>\n",
       "      <td>89359</td>\n",
       "      <td>15193</td>\n",
       "    </tr>\n",
       "    <tr>\n",
       "      <th>6</th>\n",
       "      <td>19391</td>\n",
       "      <td>48887</td>\n",
       "      <td>11072</td>\n",
       "    </tr>\n",
       "  </tbody>\n",
       "</table>\n",
       "</div>"
      ],
      "text/plain": [
       "phase        0 powerplay  1 mid-innings  2 last two\n",
       "batter_runs                                        \n",
       "0                 255696         331451       37221\n",
       "1                 150345         460746       45550\n",
       "2                  26295          77402       15030\n",
       "3                   3209           3431         575\n",
       "4                  80103          89359       15193\n",
       "6                  19391          48887       11072"
      ]
     },
     "execution_count": 22,
     "metadata": {},
     "output_type": "execute_result"
    }
   ],
   "source": [
    "qry = \"\"\"\n",
    "WITH phased AS (\n",
    "    SELECT\n",
    "        *\n",
    "    ,   CASE\n",
    "        WHEN over BETWEEN 0 AND 5 THEN '0 powerplay'\n",
    "        WHEN over BETWEEN 6 AND 17 THEN '1 mid-innings'\n",
    "        ELSE '2 last two'\n",
    "        END as phase\n",
    "    FROM balls\n",
    ")\n",
    "SELECT phase, batter_runs, COUNT(*) AS count\n",
    "FROM phased\n",
    "WHERE innings < 2\n",
    "AND extra_type = ''\n",
    "AND batter_runs in (0,1,2,3,4,6)\n",
    "GROUP BY phase, batter_runs\n",
    "\"\"\"\n",
    "result=%sql {{qry}}\n",
    "df=result.DataFrame()\n",
    "df.pivot(columns=\"phase\", index=\"batter_runs\", values=\"count\")"
   ]
  },
  {
   "cell_type": "markdown",
   "metadata": {},
   "source": [
    "## Average runs by over"
   ]
  },
  {
   "cell_type": "code",
   "execution_count": 29,
   "metadata": {},
   "outputs": [
    {
     "data": {
      "text/html": [
       "<span style=\"None\">Running query in &#x27;sqlite://///home/mikew/extracover/male_t20.db&#x27;</span>"
      ],
      "text/plain": [
       "Running query in 'sqlite://///home/mikew/extracover/male_t20.db'"
      ]
     },
     "metadata": {},
     "output_type": "display_data"
    },
    {
     "data": {
      "text/plain": [
       "<Axes: xlabel='over'>"
      ]
     },
     "execution_count": 29,
     "metadata": {},
     "output_type": "execute_result"
    },
    {
     "data": {
      "image/png": "[encoded data removed]",
      "text/plain": [
       "<Figure size 640x480 with 1 Axes>"
      ]
     },
     "metadata": {},
     "output_type": "display_data"
    }
   ],
   "source": [
    "sql= \"\"\"WITH\n",
    "\tover_runs AS (\n",
    "SELECT\n",
    "\tover\n",
    ",\tCAST(SUM(batter_runs) + SUM(extra_runs) AS FLOAT) AS runs\n",
    "FROM balls\n",
    "WHERE innings = 0\n",
    "GROUP BY match_id, over\n",
    "HAVING MAX(ball) = 5\n",
    ")\n",
    "SELECT\n",
    "\tover\n",
    ",\tSUM(runs) / COUNT(*) AS avg_runs\n",
    "FROM over_runs\n",
    "GROUP BY over\n",
    "ORDER BY over\"\"\"\n",
    "result=%sql {{sql}}\n",
    "df=result.DataFrame()\n",
    "df.plot(x=\"over\", y=\"avg_runs\", kind=\"bar\")"
   ]
  },
  {
   "cell_type": "code",
   "execution_count": null,
   "metadata": {},
   "outputs": [],
   "source": []
  }
 ],
 "metadata": {
  "kernelspec": {
   "display_name": "venv",
   "language": "python",
   "name": "python3"
  },
  "language_info": {
   "codemirror_mode": {
    "name": "ipython",
    "version": 3
   },
   "file_extension": ".py",
   "mimetype": "text/x-python",
   "name": "python",
   "nbconvert_exporter": "python",
   "pygments_lexer": "ipython3",
   "version": "3.12.7"
  }
 },
 "nbformat": 4,
 "nbformat_minor": 2
}
