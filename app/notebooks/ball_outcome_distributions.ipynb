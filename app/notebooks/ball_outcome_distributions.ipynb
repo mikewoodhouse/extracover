{
 "cells": [
  {
   "cell_type": "code",
   "execution_count": 5,
   "metadata": {},
   "outputs": [
    {
     "name": "stdout",
     "output_type": "stream",
     "text": [
      "The autoreload extension is already loaded. To reload it, use:\n",
      "  %reload_ext autoreload\n"
     ]
    }
   ],
   "source": [
    "%load_ext autoreload\n",
    "%autoreload 2"
   ]
  },
  {
   "cell_type": "code",
   "execution_count": 15,
   "metadata": {},
   "outputs": [],
   "source": [
    "import sqlite3\n",
    "import sys\n",
    "from pathlib import Path"
   ]
  },
  {
   "cell_type": "code",
   "execution_count": 7,
   "metadata": {},
   "outputs": [],
   "source": [
    "if \"../..\" not in sys.path:\n",
    "    sys.path.insert(0, \"../..\")"
   ]
  },
  {
   "cell_type": "code",
   "execution_count": 8,
   "metadata": {},
   "outputs": [],
   "source": [
    "from config import config"
   ]
  },
  {
   "cell_type": "code",
   "execution_count": 16,
   "metadata": {},
   "outputs": [],
   "source": [
    "db = sqlite3.connect(Path(\"../../\") / config.db_filename)\n",
    "db.row_factory = sqlite3.Row"
   ]
  },
  {
   "cell_type": "code",
   "execution_count": 17,
   "metadata": {},
   "outputs": [
    {
     "name": "stdout",
     "output_type": "stream",
     "text": [
      "[<sqlite3.Row object at 0x7f5dabf9e7d0>, <sqlite3.Row object at 0x7f5dabfb5a50>, <sqlite3.Row object at 0x7f5dabfb5630>, <sqlite3.Row object at 0x7f5dabfb54e0>, <sqlite3.Row object at 0x7f5dabfb5b70>, <sqlite3.Row object at 0x7f5dabfb5870>, <sqlite3.Row object at 0x7f5dabfb55a0>, <sqlite3.Row object at 0x7f5dabfb59c0>, <sqlite3.Row object at 0x7f5dabfb59f0>, <sqlite3.Row object at 0x7f5dabfb5780>]\n"
     ]
    }
   ],
   "source": [
    "rows = db.execute(\"SELECT * FROM balls WHERE over = 0\").fetchall()\n",
    "print(rows[:10])"
   ]
  },
  {
   "cell_type": "code",
   "execution_count": null,
   "metadata": {},
   "outputs": [],
   "source": []
  }
 ],
 "metadata": {
  "kernelspec": {
   "display_name": "venv",
   "language": "python",
   "name": "python3"
  },
  "language_info": {
   "codemirror_mode": {
    "name": "ipython",
    "version": 3
   },
   "file_extension": ".py",
   "mimetype": "text/x-python",
   "name": "python",
   "nbconvert_exporter": "python",
   "pygments_lexer": "ipython3",
   "version": "3.12.2"
  }
 },
 "nbformat": 4,
 "nbformat_minor": 2
}
